{
  "nbformat": 4,
  "nbformat_minor": 0,
  "metadata": {
    "kernelspec": {
      "display_name": "Python 3",
      "language": "python",
      "name": "python3"
    },
    "language_info": {
      "codemirror_mode": {
        "name": "ipython",
        "version": 3
      },
      "file_extension": ".py",
      "mimetype": "text/x-python",
      "name": "python",
      "nbconvert_exporter": "python",
      "pygments_lexer": "ipython3",
      "version": "3.7.1"
    },
    "colab": {
      "provenance": [],
      "include_colab_link": true
    }
  },
  "cells": [
    {
      "cell_type": "markdown",
      "metadata": {
        "id": "view-in-github",
        "colab_type": "text"
      },
      "source": [
        "<a href=\"https://colab.research.google.com/github/serialize02/2023final/blob/main/numpy_matplotlib_ipynb_2.ipynb\" target=\"_parent\"><img src=\"https://colab.research.google.com/assets/colab-badge.svg\" alt=\"Open In Colab\"/></a>"
      ]
    },
    {
      "cell_type": "markdown",
      "metadata": {
        "id": "JcCdLoe_4bY7"
      },
      "source": [
        "### create nd arrays (≈matrices)"
      ]
    },
    {
      "cell_type": "code",
      "metadata": {
        "id": "5ap7xyofShBB"
      },
      "source": [
        "import numpy as np"
      ],
      "execution_count": 2,
      "outputs": []
    },
    {
      "cell_type": "code",
      "metadata": {
        "id": "2rqpSPZCShBC",
        "colab": {
          "base_uri": "https://localhost:8080/"
        },
        "outputId": "d55784ca-0ae1-419b-8963-829ed8e88374"
      },
      "source": [
        "x = np.array([1,2,3])\n",
        "print(x)\n",
        "print(type(x))\n",
        "print(x.shape)"
      ],
      "execution_count": 4,
      "outputs": [
        {
          "output_type": "stream",
          "name": "stdout",
          "text": [
            "[1 2 3]\n",
            "<class 'numpy.ndarray'>\n",
            "(3,)\n"
          ]
        }
      ]
    },
    {
      "cell_type": "markdown",
      "source": [
        "np라는 라이브러리 속 array라는 함수\n",
        "괄호 안에 들어있는 입력은? -> 리스트\n",
        "\n",
        "왜 리스트도 숫자만 있는데 저걸 array로 바꿔야하지?\n",
        "리스트는 그냥 묶어둔 것에 불과하기 때문에 숫차 처리가 되지 않음 -> 숫자처리가 되는 array로 바꿔줘야 함\n",
        "\n",
        "결과 값의 [1 2 3]은 리스트가 아닌 어레이다\n",
        "\n",
        "shape이 dimension(차원)에 대한 정보를 줌\n",
        "(행, 열) 이런느낌인거같은데... (3, 1)(3, ) 똑같은 의미임 1차원임을 의미"
      ],
      "metadata": {
        "id": "MQXUI_M6yE9l"
      }
    },
    {
      "cell_type": "code",
      "metadata": {
        "id": "EjC88C75ShBC",
        "colab": {
          "base_uri": "https://localhost:8080/"
        },
        "outputId": "d0662c24-c24e-4d57-91ee-8d3d3995bc0c"
      },
      "source": [
        "x = np.arange(0,10,2)\n",
        "print(x)\n",
        "print(type(x))\n",
        "print(x.shape)"
      ],
      "execution_count": 5,
      "outputs": [
        {
          "output_type": "stream",
          "name": "stdout",
          "text": [
            "[0 2 4 6 8]\n",
            "<class 'numpy.ndarray'>\n",
            "(5,)\n"
          ]
        }
      ]
    },
    {
      "cell_type": "markdown",
      "source": [
        "arange 어떤 range에 해당하는 숫자를 쭉 만들어주는 것\n",
        "0부터 10까지 2만큼의 간격으로 숫자를 만들어라 (10은 포함 안됨)\n",
        "\n",
        "shape (5, ) 한줄짜리 1차원인데 숫자가 5개 들었구나 라고 해석하면 됨"
      ],
      "metadata": {
        "id": "B9oA5BdUqrFK"
      }
    },
    {
      "cell_type": "code",
      "metadata": {
        "id": "-MwkCEjTShBC",
        "colab": {
          "base_uri": "https://localhost:8080/"
        },
        "outputId": "99ed02e8-f4d9-4e6d-dae4-b4b61b2c4448"
      },
      "source": [
        "x = np.linspace(0,10,6)\n",
        "print(x)\n",
        "print(type(x))\n",
        "print(x.shape)"
      ],
      "execution_count": 6,
      "outputs": [
        {
          "output_type": "stream",
          "name": "stdout",
          "text": [
            "[ 0.  2.  4.  6.  8. 10.]\n",
            "<class 'numpy.ndarray'>\n",
            "(6,)\n"
          ]
        }
      ]
    },
    {
      "cell_type": "markdown",
      "source": [
        "linspace 유용하게 쓰이는 함수\n",
        "=lineal space\n",
        "0부터 10 전까지 이게 아니라,, 0하고 10이 있는데 이걸 6등분해라.\n",
        "0하고 10을 포함해서 숫자가 6개 나오게 만들어라\n",
        "이것도 1차원"
      ],
      "metadata": {
        "id": "AIUXZ49SrPeS"
      }
    },
    {
      "cell_type": "code",
      "metadata": {
        "id": "tjk79SQ27fNv",
        "colab": {
          "base_uri": "https://localhost:8080/"
        },
        "outputId": "03d1c021-7ea3-40a8-9026-b35ecf7b38e5"
      },
      "source": [
        "x = np.array([[1,2,3], [4,5,6]])\n",
        "print(x)\n",
        "print(type(x))\n",
        "print(x.shape)"
      ],
      "execution_count": 7,
      "outputs": [
        {
          "output_type": "stream",
          "name": "stdout",
          "text": [
            "[[1 2 3]\n",
            " [4 5 6]]\n",
            "<class 'numpy.ndarray'>\n",
            "(2, 3)\n"
          ]
        }
      ]
    },
    {
      "cell_type": "markdown",
      "source": [
        "list 2개를 대괄호로 또 묶은 형태\n",
        "array 함수 안쪽에 있는 대괄호가 3개,\n",
        "shape은 2행 3열의 행렬임을 의미 2차원임\n",
        "list를 array로 바꿨더니 2차원으로 나오는 것을 연습을 조금해보장 ~~"
      ],
      "metadata": {
        "id": "P1wbPuJ1rv-S"
      }
    },
    {
      "cell_type": "code",
      "metadata": {
        "id": "C1ogg6iZ7yir",
        "colab": {
          "base_uri": "https://localhost:8080/"
        },
        "outputId": "d26e0ecb-87ce-47ca-b71c-6dc988c666bf"
      },
      "source": [
        "x = np.array([[[1,2,3], [4,5,6]], [[7,8,9], [10,11,12]]])\n",
        "print(x)\n",
        "print(type(x))\n",
        "print(x.shape)"
      ],
      "execution_count": 8,
      "outputs": [
        {
          "output_type": "stream",
          "name": "stdout",
          "text": [
            "[[[ 1  2  3]\n",
            "  [ 4  5  6]]\n",
            "\n",
            " [[ 7  8  9]\n",
            "  [10 11 12]]]\n",
            "<class 'numpy.ndarray'>\n",
            "(2, 2, 3)\n"
          ]
        }
      ]
    },
    {
      "cell_type": "markdown",
      "source": [
        "대괄호의 개수가 차원의 개수, 대괄호 개수가 3개니까 차원이 3차원\n",
        "shape 2개의 행렬이 있고, 각 행렬은 2행 3열로 이뤄져 있음\n",
        "3차원 배열/ 1차원: 2개의 행렬이 있음 2차원: 각행렬은 2행 3차원: 행렬은 3열"
      ],
      "metadata": {
        "id": "F5Rlcmkjt-sL"
      }
    },
    {
      "cell_type": "code",
      "metadata": {
        "id": "efgeNHtD8ZlT",
        "colab": {
          "base_uri": "https://localhost:8080/"
        },
        "outputId": "12e5430c-32ac-4585-95f5-1ea606005a26"
      },
      "source": [
        "x = np.ones([2, 2, 3])\n",
        "print(x)\n",
        "print(type(x))\n",
        "print(x.shape)"
      ],
      "execution_count": 9,
      "outputs": [
        {
          "output_type": "stream",
          "name": "stdout",
          "text": [
            "[[[1. 1. 1.]\n",
            "  [1. 1. 1.]]\n",
            "\n",
            " [[1. 1. 1.]\n",
            "  [1. 1. 1.]]]\n",
            "<class 'numpy.ndarray'>\n",
            "(2, 2, 3)\n"
          ]
        }
      ]
    },
    {
      "cell_type": "markdown",
      "source": [
        "ones 라는 함수에 dimension을 넣으면 1이라는 숫자를 만들어냄 -> 모든 요소가 1인 배열을 만들어 냄\n",
        "대괄호 개수 3개: 3차원, 2개의 2행 3열짜리 행렬"
      ],
      "metadata": {
        "id": "qm--WkpdvOKh"
      }
    },
    {
      "cell_type": "code",
      "metadata": {
        "id": "b_F-ccY08zzl",
        "colab": {
          "base_uri": "https://localhost:8080/"
        },
        "outputId": "00ef24eb-3e32-41c4-e22f-6da639685f36"
      },
      "source": [
        "x = np.zeros([2, 2, 3])\n",
        "print(x)\n",
        "print(type(x))\n",
        "print(x.shape)\n",
        "x.reshape(3,2,2)"
      ],
      "execution_count": 10,
      "outputs": [
        {
          "output_type": "stream",
          "name": "stdout",
          "text": [
            "[[[0. 0. 0.]\n",
            "  [0. 0. 0.]]\n",
            "\n",
            " [[0. 0. 0.]\n",
            "  [0. 0. 0.]]]\n",
            "<class 'numpy.ndarray'>\n",
            "(2, 2, 3)\n"
          ]
        },
        {
          "output_type": "execute_result",
          "data": {
            "text/plain": [
              "array([[[0., 0.],\n",
              "        [0., 0.]],\n",
              "\n",
              "       [[0., 0.],\n",
              "        [0., 0.]],\n",
              "\n",
              "       [[0., 0.],\n",
              "        [0., 0.]]])"
            ]
          },
          "metadata": {},
          "execution_count": 10
        }
      ]
    },
    {
      "cell_type": "markdown",
      "source": [
        "zeros 함수는 0만 만들어주는 함수 위에꺼랑 같은 구조로 !"
      ],
      "metadata": {
        "id": "8rmFIlcCwbrX"
      }
    },
    {
      "cell_type": "markdown",
      "metadata": {
        "id": "0hQuDJ5g9gpE"
      },
      "source": [
        "### create random numbers"
      ]
    },
    {
      "cell_type": "code",
      "source": [
        "np.random.normal(0, 1, [2,3,4])"
      ],
      "metadata": {
        "id": "pCVnElBgan70",
        "outputId": "27e11552-dd0b-4510-b15b-10d2d4b41d9f",
        "colab": {
          "base_uri": "https://localhost:8080/"
        }
      },
      "execution_count": 11,
      "outputs": [
        {
          "output_type": "execute_result",
          "data": {
            "text/plain": [
              "array([[[-0.98900202, -0.66345417,  0.09005077, -0.36455937],\n",
              "        [ 1.80552471, -0.74941111,  0.67966449, -2.27377041],\n",
              "        [ 0.86971031,  0.82073094,  0.87437069,  0.71386911]],\n",
              "\n",
              "       [[ 0.0244392 , -1.02131206,  0.781394  ,  2.19669154],\n",
              "        [-0.52817288, -0.77778496, -0.49225833,  1.03440266],\n",
              "        [-0.38729347,  0.92448399, -0.36061346, -0.42581137]]])"
            ]
          },
          "metadata": {},
          "execution_count": 11
        }
      ]
    },
    {
      "cell_type": "markdown",
      "source": [
        "아까는 random뒤에 randn(?) 이라는 함수를 썼는데 이번에는 뒤에 normal 함수를 사용\n",
        "평균(mean)이 0이고 표준편차(standard deviation)이 1인 함수를 [2,3,4]의 division으로 만들어라 해서 나온 3차원의 배열\n",
        "\n",
        "랜드n보다 우리가 훨씬 일반적으로 쓸 수 있는 함수"
      ],
      "metadata": {
        "id": "E89stP6Ew6VW"
      }
    },
    {
      "cell_type": "code",
      "metadata": {
        "id": "QRatmkx79otL"
      },
      "source": [
        "import matplotlib.pyplot as plt"
      ],
      "execution_count": 12,
      "outputs": []
    },
    {
      "cell_type": "code",
      "metadata": {
        "id": "z1oOAB6dShBD",
        "colab": {
          "base_uri": "https://localhost:8080/",
          "height": 841
        },
        "outputId": "6b5eb6b1-0b98-4042-c863-3b32091aca85"
      },
      "source": [
        "x = np.random.normal(0, 1, 100)\n",
        "print(x)\n",
        "plt.hist(x, bins=10)"
      ],
      "execution_count": 13,
      "outputs": [
        {
          "output_type": "stream",
          "name": "stdout",
          "text": [
            "[-0.64811949  0.75638982 -0.49453523  0.06690937  0.01084661  0.14235428\n",
            " -1.64565011 -1.38165334  0.72423667  0.53742051  0.48943252  2.76540029\n",
            " -0.90863801  2.66148824 -1.41541361  0.72238013 -0.52557984 -0.71070305\n",
            " -1.15547471 -1.31383455 -0.65530601  0.64644224  1.08478816 -0.46159905\n",
            " -1.8855374   1.63927327  0.08239213  0.35325191 -0.25672848 -1.41863436\n",
            " -0.88097668 -0.33494056 -0.59766613 -1.29479252 -0.15306221 -1.81937771\n",
            " -0.9057059   0.4556279   0.6139893   0.70797263 -0.38780222  0.69572701\n",
            " -0.21918625 -0.13030158  1.2830201  -0.95379753  1.87663068 -0.34570359\n",
            " -0.77819866 -0.27427108  0.22616749 -0.21149762  0.56584923  0.95864385\n",
            "  0.52816539 -0.885461   -0.16392061  0.81214927 -0.23323447 -0.18501794\n",
            "  1.50057415  0.44915282  0.04487189  0.63519384  0.37447795  0.26100976\n",
            "  1.08308201  0.00828784 -0.28674416  0.69203645  1.05635186  0.16379336\n",
            " -1.32284738  0.90708994 -1.10406473  0.55142017  0.5368389  -0.32634219\n",
            " -0.80160184  0.64697238  0.38019247 -1.85024238 -0.93628823 -0.49277965\n",
            " -0.73171845 -0.47598165  0.54719687  1.22840348 -0.30887674  1.87739213\n",
            "  0.45943999  0.41443939 -0.34911878 -0.51750508  1.30929829  0.16985377\n",
            " -0.58995581 -1.31223367 -0.05304173  0.57549342]\n"
          ]
        },
        {
          "output_type": "execute_result",
          "data": {
            "text/plain": [
              "(array([ 4.,  9., 18., 19., 14., 22.,  8.,  2.,  2.,  2.]),\n",
              " array([-1.8855374 , -1.42044363, -0.95534986, -0.49025609, -0.02516233,\n",
              "         0.43993144,  0.90502521,  1.37011898,  1.83521275,  2.30030652,\n",
              "         2.76540029]),\n",
              " <BarContainer object of 10 artists>)"
            ]
          },
          "metadata": {},
          "execution_count": 13
        },
        {
          "output_type": "display_data",
          "data": {
            "text/plain": [
              "<Figure size 640x480 with 1 Axes>"
            ],
            "image/png": "[encoded data removed]"
          },
          "metadata": {}
        }
      ]
    },
    {
      "cell_type": "markdown",
      "source": [
        "bins 숫자 바꿀 수 있다는 것만 언급하고 넘어감"
      ],
      "metadata": {
        "id": "-JkdjLDxyay4"
      }
    },
    {
      "cell_type": "markdown",
      "metadata": {
        "id": "G0exvwBbShBE"
      },
      "source": [
        "### generate a sine curve"
      ]
    },
    {
      "cell_type": "code",
      "metadata": {
        "id": "HgQmRXzMShBE",
        "colab": {
          "base_uri": "https://localhost:8080/",
          "height": 449
        },
        "outputId": "a2540da1-9b5c-4b01-f8e5-3cddf3e74c59"
      },
      "source": [
        "plt.figure()\n",
        "\n",
        "theta1 = np.linspace(0, 2*np.pi, 100)\n",
        "s1 = np.sin(theta1)\n",
        "theta2 = np.linspace(0, 2*np.pi, 100) + np.pi/2\n",
        "s2 = np.sin(theta2)\n",
        "\n",
        "plt.subplot(2, 1, 1) # (rows, columns, panel number)\n",
        "plt.plot(theta1, s1, '.')\n",
        "plt.subplot(2, 1, 2) # (rows, columns, panel number)\n",
        "plt.plot(theta2, s2, '.')"
      ],
      "execution_count": 14,
      "outputs": [
        {
          "output_type": "execute_result",
          "data": {
            "text/plain": [
              "[<matplotlib.lines.Line2D at 0x79e12408c9a0>]"
            ]
          },
          "metadata": {},
          "execution_count": 14
        },
        {
          "output_type": "display_data",
          "data": {
            "text/plain": [
              "<Figure size 640x480 with 2 Axes>"
            ],
            "image/png": "[encoded data removed]"
          },
          "metadata": {}
        }
      ]
    },
    {
      "cell_type": "markdown",
      "source": [
        "sin 곡선을 어떻게 만들 수 있는가? -> 여기서는 linspace를 이용\n",
        "린스페이스로 숫자를 촘촘히 만들어주는 것\n",
        "\n",
        "theta1은 0부터 2ㅠ까지 이루어진 배열\n",
        "그냥 pi가 아니라 ni.pi라고 표기해줘야 함 (np 안에 그 값이 저장되어 있다? 정확히는 모르겠음)\n",
        "각도값이니까 theta 라는 표기를 사용했음 !  \n",
        "s1은 theta1에 대한 사인함수의 값\n",
        "radian의 값으로 넣어야함\n",
        "\n",
        "문제) theta1과 s1의 개수는 같다? 맞다. 둘다 100개\n",
        "\n",
        "여기서 할 수 있는게 plt, plotting\n",
        "plt 함수가 matplotlib안에 있었는데,\n",
        "plt.plot 은 (x값, y값, '점으로찍어라(.)')\n",
        "2차원이니까 x값과 y값이 둘다 있어야 점을 찍을 수 있는 것임\n",
        "subplot은 그냥 원래 해주는구나 라고 생각하고 넘어가자\n",
        "\n",
        "plot을 좀 예쁘게 할 때 서브플롯을 쓰는거다..?\n",
        "\n",
        "subplot(2,1,1) 2행 1열로 레이아웃할거고 그 중 1번째 plot에 이거 하고,, 대충 이런 의미\n",
        "\n",
        "theta1, theta2의 결과 값이 다른 이유는 뒷부분에 + ㅠ/2 가 추가되어 있기 때문"
      ],
      "metadata": {
        "id": "bM6ZNRfJylMP"
      }
    },
    {
      "cell_type": "code",
      "metadata": {
        "id": "TuH489v9BvQ7",
        "colab": {
          "base_uri": "https://localhost:8080/"
        },
        "outputId": "0ceb1c08-40e0-4d1b-f6a7-4a13c17f8d73"
      },
      "source": [
        "np.corrcoef(s1,s2)"
      ],
      "execution_count": 15,
      "outputs": [
        {
          "output_type": "execute_result",
          "data": {
            "text/plain": [
              "array([[1.00000000e+00, 2.41915449e-17],\n",
              "       [2.41915449e-17, 1.00000000e+00]])"
            ]
          },
          "metadata": {},
          "execution_count": 15
        }
      ]
    },
    {
      "cell_type": "markdown",
      "source": [
        "국어점수가 높은 학생이 영어점수도 높다 = 양의 상관관계\n",
        "우리가 plotting을 해서 점을 찍어 그래프로 만들어봤더니, 그 패턴이 거의 선에 가깝게 붙어 나오면 우리는 이걸 상관관계가 높다고 함.\n",
        "\n",
        "np.corrcoef함수에 똑같이 생긴 두 sin함수 s1, s2를 집어넣는다면, 상관관계가 계산되어 나오는데, 숫자 네개가 등장\n",
        "1.000~은 자기자신과의 상관관계이기 때문에 항상 1이 나오고, 그 나머지 숫자만 보면 됨.\n",
        "근데 지금은 1,1 되어있기 때문에 (?) 당연히 나머지 둘의 숫자가 같을 수 밖에 없음\n",
        "\n",
        "shift가 달라짐에 따라 상관관계가 달라진다고 했는데 이 shift 가 좌우로 얼마나 움직이는지임\n",
        "ㅠ/100한다는 부분이 뭘 바꾼다는건지 이해가 안감. 이 뒷부분 다 이해안됨...."
      ],
      "metadata": {
        "id": "pjU1Rqzi9kcN"
      }
    }
  ]
}