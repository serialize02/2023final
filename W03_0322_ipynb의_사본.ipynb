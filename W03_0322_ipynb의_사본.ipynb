{
  "nbformat": 4,
  "nbformat_minor": 0,
  "metadata": {
    "colab": {
      "provenance": [],
      "collapsed_sections": [
        "d5fm9aW2o_e5",
        "08f2z_NPpNi4",
        "V8c1x7Lfp7B5",
        "njr2U-lbp74F",
        "f4DwX2JkqsW4"
      ],
      "include_colab_link": true
    },
    "kernelspec": {
      "name": "python3",
      "display_name": "Python 3"
    },
    "language_info": {
      "name": "python"
    }
  },
  "cells": [
    {
      "cell_type": "markdown",
      "metadata": {
        "id": "view-in-github",
        "colab_type": "text"
      },
      "source": [
        "<a href=\"https://colab.research.google.com/github/serialize02/2023final/blob/main/W03_0322_ipynb%EC%9D%98_%EC%82%AC%EB%B3%B8.ipynb\" target=\"_parent\"><img src=\"https://colab.research.google.com/assets/colab-badge.svg\" alt=\"Open In Colab\"/></a>"
      ]
    },
    {
      "cell_type": "markdown",
      "source": [
        "<h1>Week 3:\n",
        "<br>\n",
        "Python Fundamentals</h1>"
      ],
      "metadata": {
        "id": "AEwHVWvPhXmf"
      }
    },
    {
      "cell_type": "markdown",
      "source": [
        "<h2>Function</h2>"
      ],
      "metadata": {
        "id": "1QsdjoC7h6Ti"
      }
    },
    {
      "cell_type": "code",
      "source": [
        "# This is a comment\n",
        "\n",
        "print(\"Hello!\")"
      ],
      "metadata": {
        "id": "7xbt3by-h55O",
        "outputId": "294073ca-3340-4163-f224-259d0692de07",
        "colab": {
          "base_uri": "https://localhost:8080/"
        }
      },
      "execution_count": null,
      "outputs": [
        {
          "output_type": "stream",
          "name": "stdout",
          "text": [
            "Hello!\n"
          ]
        }
      ]
    },
    {
      "cell_type": "markdown",
      "source": [
        "print라는 명령어: 출력해달라 -> 함수\n",
        "f(x) = print (입력값)\n",
        "\n",
        "명령어 -> 컴퓨터에게 전송 -> interpreter이 번역 -> 컴퓨터가 화면에 hello 띄움"
      ],
      "metadata": {
        "id": "CsBU7GpNJa1F"
      }
    },
    {
      "cell_type": "markdown",
      "source": [
        "<h2>Operator</h2>\n",
        "\n",
        "Special symbols that perform actions on data\n",
        "데이터에게 특정 액션을 취하는 특수한 기호들"
      ],
      "metadata": {
        "id": "1xSDSB1CiGfe"
      }
    },
    {
      "cell_type": "code",
      "execution_count": null,
      "metadata": {
        "id": "WExDlzaWhWzi",
        "outputId": "4c1167b7-9727-4ef3-d3d2-28a995dada5e",
        "colab": {
          "base_uri": "https://localhost:8080/"
        }
      },
      "outputs": [
        {
          "output_type": "stream",
          "name": "stdout",
          "text": [
            "3\n"
          ]
        }
      ],
      "source": [
        "print(1 + 2)"
      ]
    },
    {
      "cell_type": "markdown",
      "source": [
        "<h2>Variable</h2>\n",
        "변수\n",
        "* A named container that stores a value (== data)\n",
        "* A nickname that points to a specific value (== data)\n",
        "* Assignment operator (=) is used to assign a value (== data) to a variable"
      ],
      "metadata": {
        "id": "6IZQubigjLu8"
      }
    },
    {
      "cell_type": "code",
      "source": [
        "a = \"Hello!\"\n",
        "print(a)"
      ],
      "metadata": {
        "id": "AIcYqTG7jXG0",
        "colab": {
          "base_uri": "https://localhost:8080/"
        },
        "outputId": "fdd8f208-2a39-4a10-d60a-eb8adb26ecfd"
      },
      "execution_count": null,
      "outputs": [
        {
          "output_type": "stream",
          "name": "stdout",
          "text": [
            "Hello!\n"
          ]
        }
      ]
    },
    {
      "cell_type": "markdown",
      "source": [
        "= assignment operator\n",
        "\n",
        "변수를 재할당 reassignment하고 싶으면\n",
        "a라는 컨테이너에 hello -> bye 재할당 하면 됨"
      ],
      "metadata": {
        "id": "i7dkm65rOuZB"
      }
    },
    {
      "cell_type": "code",
      "source": [
        "a = \"Bye!\"\n",
        "print(a)"
      ],
      "metadata": {
        "id": "Toh1i1VVjiqb",
        "colab": {
          "base_uri": "https://localhost:8080/"
        },
        "outputId": "412c3af0-0eac-449d-9588-08e66212523f"
      },
      "execution_count": null,
      "outputs": [
        {
          "output_type": "stream",
          "name": "stdout",
          "text": [
            "Bye!\n"
          ]
        }
      ]
    },
    {
      "cell_type": "markdown",
      "source": [
        "## Data Types"
      ],
      "metadata": {
        "id": "89WoR-YUjrxP"
      }
    },
    {
      "cell_type": "markdown",
      "source": [
        "<h3>Data type</h3>\n",
        "\n",
        "Each piece of data has a specific type"
      ],
      "metadata": {
        "id": "-jXfeDBhj9LE"
      }
    },
    {
      "cell_type": "code",
      "source": [
        "a = 1\n",
        "b = \"Hello!\"\n",
        "c = True\n",
        "d = [1, 2, 3]\n",
        "e = {\"a\": 1, \"b\": 2}"
      ],
      "metadata": {
        "id": "IeT3aa7ujrOn"
      },
      "execution_count": null,
      "outputs": []
    },
    {
      "cell_type": "markdown",
      "source": [
        "<h3>type()</h3>\n",
        "\n",
        "A function that returns the data type"
      ],
      "metadata": {
        "id": "xA5Sp5kr5pp9"
      }
    },
    {
      "cell_type": "code",
      "source": [
        "print(type(a))\n",
        "print(type(b))\n",
        "print(type(c))\n",
        "print(type(d))\n",
        "print(type(e))"
      ],
      "metadata": {
        "id": "L2jO3jLLkS0w",
        "colab": {
          "base_uri": "https://localhost:8080/"
        },
        "outputId": "84c4f6cd-d241-4193-cb1f-71a6bcfc91ca"
      },
      "execution_count": null,
      "outputs": [
        {
          "output_type": "stream",
          "name": "stdout",
          "text": [
            "<class 'int'>\n",
            "<class 'str'>\n",
            "<class 'bool'>\n",
            "<class 'list'>\n",
            "<class 'dict'>\n"
          ]
        }
      ]
    },
    {
      "cell_type": "markdown",
      "source": [
        "### Number"
      ],
      "metadata": {
        "id": "M8C-GrGZkcdL"
      }
    },
    {
      "cell_type": "code",
      "source": [
        "# Integer\n",
        "\n",
        "a = 1\n",
        "b = 0\n",
        "c = -1"
      ],
      "metadata": {
        "id": "BogVSD-okgwc"
      },
      "execution_count": null,
      "outputs": []
    },
    {
      "cell_type": "code",
      "source": [
        "# Floating-point number\n",
        "\n",
        "a = 3.14159\n",
        "b = 0.0\n",
        "c = -3.14"
      ],
      "metadata": {
        "id": "wqYZJrKPkmz9"
      },
      "execution_count": null,
      "outputs": []
    },
    {
      "cell_type": "markdown",
      "source": [
        "실수\n",
        "0 -> integer 정수\n",
        "0.0 -> floating point numb 실수"
      ],
      "metadata": {
        "id": "nhp8wY4dR3zg"
      }
    },
    {
      "cell_type": "markdown",
      "source": [
        "#### Calculation\n",
        "\n",
        "Arithmetic operators can be used for mathematical operations"
      ],
      "metadata": {
        "id": "d5fm9aW2o_e5"
      }
    },
    {
      "cell_type": "code",
      "source": [
        "a = 5\n",
        "b = 3\n",
        "\n",
        "print(a + b)   # Addition\n",
        "print(a - b)   # Subtraction\n",
        "print(a * b)   # Multiplication\n",
        "print(a / b)   # Division"
      ],
      "metadata": {
        "id": "PuVCOUlso-Z3",
        "colab": {
          "base_uri": "https://localhost:8080/"
        },
        "outputId": "38bc67a5-095c-4cfc-a401-9df43246a5c7"
      },
      "execution_count": null,
      "outputs": [
        {
          "output_type": "stream",
          "name": "stdout",
          "text": [
            "8\n",
            "2\n",
            "15\n",
            "1.6666666666666667\n"
          ]
        }
      ]
    },
    {
      "cell_type": "code",
      "source": [
        "print(a // b)  # Quotient 몫\n",
        "print(a % b)   # Modulus 나머지\n",
        "print(a ** b)  # Exponentiation 5의 3승"
      ],
      "metadata": {
        "id": "jPij63m2pKGy",
        "colab": {
          "base_uri": "https://localhost:8080/"
        },
        "outputId": "e5e3eef4-a7f6-41c3-d30d-f89a2c70c7b0"
      },
      "execution_count": null,
      "outputs": [
        {
          "output_type": "stream",
          "name": "stdout",
          "text": [
            "1\n",
            "2\n",
            "125\n"
          ]
        }
      ]
    },
    {
      "cell_type": "markdown",
      "source": [
        "#### Comparison\n",
        "\n",
        "Comparison operators can be used for comparing data"
      ],
      "metadata": {
        "id": "08f2z_NPpNi4"
      }
    },
    {
      "cell_type": "code",
      "source": [
        "# a = 5\n",
        "# b = 3\n",
        "\n",
        "print(a > b)\n",
        "print(a < b)\n",
        "print(a >= b)\n",
        "print(a <= b)\n",
        "print(a == b) # assignment operator 와 구분하기 위해서 양변의 값이 같은지를 물을 때는 ==을 사용\n",
        "print(a != b) # 부등호 (등호의 반대)"
      ],
      "metadata": {
        "id": "arBStTdSo8P0",
        "colab": {
          "base_uri": "https://localhost:8080/"
        },
        "outputId": "7360d573-eb93-4e63-b14f-8daec72ebe86"
      },
      "execution_count": null,
      "outputs": [
        {
          "output_type": "stream",
          "name": "stdout",
          "text": [
            "True\n",
            "False\n",
            "True\n",
            "False\n",
            "False\n",
            "True\n"
          ]
        }
      ]
    },
    {
      "cell_type": "markdown",
      "source": [
        "#### Number: Exercise"
      ],
      "metadata": {
        "id": "msci-0Tat5mX"
      }
    },
    {
      "cell_type": "markdown",
      "source": [
        "1.\n",
        "\n",
        "Your phone battery health is at 80% and you drain 10% while using a navigation app.\n",
        "<br>\n",
        "What percentage is remaining?"
      ],
      "metadata": {
        "id": "jaL_sCUyysZL"
      }
    },
    {
      "cell_type": "code",
      "source": [
        "#@title Answer\n",
        "\n",
        "previous_battery = 80\n",
        "used_battery = 10\n",
        "\n",
        "print(\"remaining:\", previous_battery - used_battery)"
      ],
      "metadata": {
        "id": "rfifVGOgfF8B",
        "colab": {
          "base_uri": "https://localhost:8080/"
        },
        "outputId": "326afea5-35b4-4b86-f2b7-0c1faf4acee1"
      },
      "execution_count": null,
      "outputs": [
        {
          "output_type": "stream",
          "name": "stdout",
          "text": [
            "remaining: 70\n"
          ]
        }
      ]
    },
    {
      "cell_type": "markdown",
      "source": [
        "2.\n",
        "\n",
        "You're planning a garden and want to find the area.\n",
        "<br>\n",
        "The length is 7 meters and the width is 5 meters."
      ],
      "metadata": {
        "id": "LxQRaV24xR19"
      }
    },
    {
      "cell_type": "code",
      "source": [],
      "metadata": {
        "id": "58GoEYSnx091"
      },
      "execution_count": null,
      "outputs": []
    },
    {
      "cell_type": "code",
      "source": [
        "#@title Answer\n",
        "\n",
        "length = 7\n",
        "width = 5\n",
        "\n",
        "print(\"area (square meters):\", length * width)"
      ],
      "metadata": {
        "id": "HX1Aj-JihsAI",
        "colab": {
          "base_uri": "https://localhost:8080/"
        },
        "outputId": "a5985170-dc3c-4268-b36f-117b0eb73d93"
      },
      "execution_count": null,
      "outputs": [
        {
          "output_type": "stream",
          "name": "stdout",
          "text": [
            "area (square meters): 35\n"
          ]
        }
      ]
    },
    {
      "cell_type": "markdown",
      "source": [
        "3.\n",
        "\n",
        "You're at a store and an item is originally priced at KRW 50,000.\n",
        "<br>\n",
        "There's a 10% discount.\n",
        "<br>What's the final price?"
      ],
      "metadata": {
        "id": "tjnBUtryv0vO"
      }
    },
    {
      "cell_type": "code",
      "source": [],
      "metadata": {
        "id": "CSqfHySqzPrM"
      },
      "execution_count": null,
      "outputs": []
    },
    {
      "cell_type": "code",
      "source": [
        "#@title Answer\n",
        "\n",
        "price = 50000\n",
        "discount = 0.1\n",
        "\n",
        "print(\"price (KRW):\", price * (1 - discount))"
      ],
      "metadata": {
        "id": "q532WFcjiczm"
      },
      "execution_count": null,
      "outputs": []
    },
    {
      "cell_type": "markdown",
      "source": [
        "4.\n",
        "\n",
        "You're traveling and see a temperature of 100 degrees Farenheit.\n",
        "<br>\n",
        "What's that in Celsius?\n",
        "<br>\n",
        "<br>\n",
        "Formula: $C = \\frac{5}{9}(F - 32)$"
      ],
      "metadata": {
        "id": "KF72MkvbuaEd"
      }
    },
    {
      "cell_type": "code",
      "source": [],
      "metadata": {
        "id": "rnQ_dMF5xQDo"
      },
      "execution_count": null,
      "outputs": []
    },
    {
      "cell_type": "code",
      "source": [
        "#@title Answer\n",
        "\n",
        "farenheit = 100\n",
        "celsius = 5 / 9 * (farenheit - 32)\n",
        "\n",
        "print(\"Celsius: \", celsius)"
      ],
      "metadata": {
        "id": "R79wA9_MjTNB",
        "colab": {
          "base_uri": "https://localhost:8080/"
        },
        "outputId": "4189a573-7a0d-4822-b4e0-dd96cec84a84"
      },
      "execution_count": null,
      "outputs": [
        {
          "output_type": "stream",
          "name": "stdout",
          "text": [
            "Celsius:  37.77777777777778\n"
          ]
        }
      ]
    },
    {
      "cell_type": "markdown",
      "source": [
        "5.\n",
        "\n",
        "Three students, A, B, and C, scored 85, 92, and 76 on their math exam, respectively.\n",
        "<br>\n",
        "What is the average score, and which students scored above it?"
      ],
      "metadata": {
        "id": "jOi9JdG5t-vR"
      }
    },
    {
      "cell_type": "code",
      "source": [],
      "metadata": {
        "id": "OPvJUy_qxPgP"
      },
      "execution_count": null,
      "outputs": []
    },
    {
      "cell_type": "code",
      "source": [
        "#@title Answer\n",
        "\n",
        "score_a = 85\n",
        "score_b = 92\n",
        "score_c = 76\n",
        "\n",
        "average_score = (score_a + score_b + score_c) / 3\n",
        "\n",
        "print(\"A's score is over average:\", score_a > average_score)\n",
        "print(\"B's score is over average:\", score_b > average_score)\n",
        "print(\"C's score is over average:\", score_c > average_score)"
      ],
      "metadata": {
        "id": "1TVfeWB3kFt-",
        "colab": {
          "base_uri": "https://localhost:8080/"
        },
        "outputId": "eb7e92c5-b8b7-4492-ffe3-b81f2bc1b1e6"
      },
      "execution_count": null,
      "outputs": [
        {
          "output_type": "stream",
          "name": "stdout",
          "text": [
            "A's score is over average: True\n",
            "B's score is over average: True\n",
            "C's score is over average: False\n"
          ]
        }
      ]
    },
    {
      "cell_type": "markdown",
      "source": [
        "### Sequence\n",
        "\n",
        "- An ordered collection of data\n",
        "- Can access data by numbers (== index)"
      ],
      "metadata": {
        "id": "wYqwFWq3kuHa"
      }
    },
    {
      "cell_type": "markdown",
      "source": [
        "<h4>String</h4>\n",
        "\n",
        "A sequence of characters that is used to represent text"
      ],
      "metadata": {
        "id": "GUs-k1FKl1Sc"
      }
    },
    {
      "cell_type": "code",
      "source": [
        "a = \"Hello!\"\n",
        "b = 'Hello!'"
      ],
      "metadata": {
        "id": "PcyaS_j2l_go"
      },
      "execution_count": null,
      "outputs": []
    },
    {
      "cell_type": "markdown",
      "source": [
        "따옴표는 상관 없음 -> 둘다 스트링으로 인정"
      ],
      "metadata": {
        "id": "EbzqgzvcYvPf"
      }
    },
    {
      "cell_type": "markdown",
      "source": [
        "<h4>List</h4>\n",
        "\n",
        "A sequence of data of any type"
      ],
      "metadata": {
        "id": "up7plpADll72"
      }
    },
    {
      "cell_type": "code",
      "source": [
        "a = [1, 2, 3] # 자리에 순서는 있음\n",
        "b = [\"red\", \"green\", \"blue\"]\n",
        "c = [1, \"red\", True] # 데이터의 종류가 달라도 list가 가능"
      ],
      "metadata": {
        "id": "Kzg9g9uRkv1T"
      },
      "execution_count": null,
      "outputs": []
    },
    {
      "cell_type": "markdown",
      "source": [
        "#### Concatenation & Repetition\n",
        "\n",
        "Operators can be used for concatenating or repeating sequences"
      ],
      "metadata": {
        "id": "V8c1x7Lfp7B5"
      }
    },
    {
      "cell_type": "code",
      "source": [
        "a = \"p\"\n",
        "b = \"ython\"\n",
        "\n",
        "print(a + b)  # Concatenate 숫자가 들어갈 때는 더하기 기능, 문자열이 들어갈 떄는 이어주는 기능\n",
        "print(a * 3)  # Repeat"
      ],
      "metadata": {
        "id": "lTHBoF9Vp-J9",
        "colab": {
          "base_uri": "https://localhost:8080/"
        },
        "outputId": "29b3cbca-a714-4f64-e1f8-b4097657cb56"
      },
      "execution_count": null,
      "outputs": [
        {
          "output_type": "stream",
          "name": "stdout",
          "text": [
            "python\n",
            "ppp\n"
          ]
        }
      ]
    },
    {
      "cell_type": "code",
      "source": [
        "a = [1, 2]\n",
        "b = [3, 4]\n",
        "\n",
        "print(a + b)  # Concatenate\n",
        "print(a * 3)  # Repeat"
      ],
      "metadata": {
        "id": "eAeWB5CVqHdM",
        "colab": {
          "base_uri": "https://localhost:8080/"
        },
        "outputId": "5fdd7902-7aa9-4210-af44-c442d7ae6a96"
      },
      "execution_count": null,
      "outputs": [
        {
          "output_type": "stream",
          "name": "stdout",
          "text": [
            "[1, 2, 3, 4]\n",
            "[1, 2, 1, 2, 1, 2]\n"
          ]
        }
      ]
    },
    {
      "cell_type": "markdown",
      "source": [
        "#### Comparison\n",
        "\n",
        "Comparison operators can be used for comparing data"
      ],
      "metadata": {
        "id": "njr2U-lbp74F"
      }
    },
    {
      "cell_type": "code",
      "source": [
        "\n",
        "a = \"Hello!\"\n",
        "b = \"Hi!\"\n",
        "\n",
        "print(a == b)\n",
        "print(a != b)"
      ],
      "metadata": {
        "id": "uDy4l13aqSNL",
        "colab": {
          "base_uri": "https://localhost:8080/"
        },
        "outputId": "7a8c75f1-3af6-4eb5-dafa-b7b8093d405b"
      },
      "execution_count": null,
      "outputs": [
        {
          "output_type": "stream",
          "name": "stdout",
          "text": [
            "False\n",
            "True\n"
          ]
        }
      ]
    },
    {
      "cell_type": "code",
      "source": [
        "a = [1, 2, 3, 4]\n",
        "b = [2, 3, 4]\n",
        "\n",
        "print(a == b)\n",
        "print(a != b)"
      ],
      "metadata": {
        "id": "32s0n4bBqzo6",
        "colab": {
          "base_uri": "https://localhost:8080/"
        },
        "outputId": "73500fa7-3e0a-43a1-e514-5490a014d54b"
      },
      "execution_count": null,
      "outputs": [
        {
          "output_type": "stream",
          "name": "stdout",
          "text": [
            "False\n",
            "True\n"
          ]
        }
      ]
    },
    {
      "cell_type": "code",
      "source": [
        "# In fact, you can compare data of different types\n",
        "\n",
        "a = \"1\"\n",
        "b = 1\n",
        "\n",
        "print(a == b)\n",
        "print(a != b)"
      ],
      "metadata": {
        "id": "eY_WVkP_qtWc",
        "colab": {
          "base_uri": "https://localhost:8080/"
        },
        "outputId": "1c1697b5-f8f9-4025-f521-8918b5ed4d0f"
      },
      "execution_count": null,
      "outputs": [
        {
          "output_type": "stream",
          "name": "stdout",
          "text": [
            "False\n",
            "True\n"
          ]
        }
      ]
    },
    {
      "cell_type": "markdown",
      "source": [
        "#### Accessing Element: Indexing\n",
        "\n",
        "Indexing operator can be used for accessing an element in a sequence"
      ],
      "metadata": {
        "id": "f4DwX2JkqsW4"
      }
    },
    {
      "cell_type": "markdown",
      "source": [
        "- Each element's position in a sequence is specified by a number (== index)\n",
        "- Starts from 0"
      ],
      "metadata": {
        "id": "y28xcFD0ql9Y"
      }
    },
    {
      "cell_type": "markdown",
      "source": [
        "|0|1|2|3|4|\n",
        "|-|-|-|-|-|\n",
        "|p|e|a|c|h|"
      ],
      "metadata": {
        "id": "GfkQHPbLygOU"
      }
    },
    {
      "cell_type": "code",
      "source": [
        "a = \"peach\"\n",
        "\n",
        "print(a[0])\n",
        "print(a[1])\n",
        "print(a[2])\n",
        "print(a[3])\n",
        "print(a[4])"
      ],
      "metadata": {
        "id": "rGEC2h8qxeWc",
        "colab": {
          "base_uri": "https://localhost:8080/"
        },
        "outputId": "7ff1c746-b79c-4b8f-cdd9-766f5921da02"
      },
      "execution_count": null,
      "outputs": [
        {
          "output_type": "stream",
          "name": "stdout",
          "text": [
            "p\n",
            "e\n",
            "a\n",
            "c\n",
            "h\n"
          ]
        }
      ]
    },
    {
      "cell_type": "markdown",
      "source": [
        "[] index operator"
      ],
      "metadata": {
        "id": "spH8t-c1duhY"
      }
    },
    {
      "cell_type": "markdown",
      "source": [
        "|0|1|2|3|4|\n",
        "|-|-|-|-|-|\n",
        "|1|2|3|4|5|"
      ],
      "metadata": {
        "id": "H_PBlbxXHkNy"
      }
    },
    {
      "cell_type": "code",
      "source": [
        "b = [1, 2, 3, 4, 5]\n",
        "\n",
        "print(b[0])\n",
        "print(b[1])\n",
        "print(b[2])\n",
        "print(b[3])\n",
        "print(b[4])"
      ],
      "metadata": {
        "id": "OBxFpjSbzk1q",
        "colab": {
          "base_uri": "https://localhost:8080/"
        },
        "outputId": "4808e90e-272f-4874-99f8-ea494d373a6e"
      },
      "execution_count": null,
      "outputs": [
        {
          "output_type": "stream",
          "name": "stdout",
          "text": [
            "1\n",
            "2\n",
            "3\n",
            "4\n",
            "5\n"
          ]
        }
      ]
    },
    {
      "cell_type": "markdown",
      "source": [
        "|-5|-4|-3|-2|-1|\n",
        "|-|-|-|-|-|\n",
        "|p|e|a|c|h|"
      ],
      "metadata": {
        "id": "RMsqTFrGzkKT"
      }
    },
    {
      "cell_type": "code",
      "source": [
        "print(a[-5])\n",
        "print(a[-4])\n",
        "print(a[-3])\n",
        "print(a[-2])\n",
        "print(a[-1])"
      ],
      "metadata": {
        "id": "o6ROrhemzRYa"
      },
      "execution_count": null,
      "outputs": []
    },
    {
      "cell_type": "markdown",
      "source": [
        "마이너스 인덱스, 데이터를 쉽게 뽑고 싶을 때 뒤에서부터 음수 부호를 시작"
      ],
      "metadata": {
        "id": "dRAPu6zpd-IW"
      }
    },
    {
      "cell_type": "markdown",
      "source": [
        "|-5|-4|-3|-2|-1|\n",
        "|-|-|-|-|-|\n",
        "|1|2|3|4|5|"
      ],
      "metadata": {
        "id": "y8eujj6Kzx5g"
      }
    },
    {
      "cell_type": "code",
      "source": [
        "print(b[-5])\n",
        "print(b[-4])\n",
        "print(b[-3])\n",
        "print(b[-2])\n",
        "print(b[-1])"
      ],
      "metadata": {
        "id": "x8YWBFKtzyba",
        "colab": {
          "base_uri": "https://localhost:8080/"
        },
        "outputId": "e0c499d8-074f-4dcf-af15-82ba452c77aa"
      },
      "execution_count": null,
      "outputs": [
        {
          "output_type": "stream",
          "name": "stdout",
          "text": [
            "1\n",
            "2\n",
            "3\n",
            "4\n",
            "5\n"
          ]
        }
      ]
    },
    {
      "cell_type": "markdown",
      "source": [
        "#### Accessing Element: Slicing\n",
        "\n",
        "Indexing operator can be used for accessing a range of elements in a sequence"
      ],
      "metadata": {
        "id": "Sezu0jV81GF-"
      }
    },
    {
      "cell_type": "markdown",
      "source": [
        "|0|1|2|3|4|\n",
        "|-|-|-|-|-|\n",
        "|p|e|a|c|h|\n",
        "\n",
        "<br>\n",
        "<br>\n",
        "\n",
        "|-5|-4|-3|-2|-1|\n",
        "|-|-|-|-|-|\n",
        "|p|e|a|c|h|"
      ],
      "metadata": {
        "id": "rnVc_TRD1coz"
      }
    },
    {
      "cell_type": "code",
      "source": [
        "print(a[2:4])"
      ],
      "metadata": {
        "id": "hFKUoRYs1Jj1",
        "colab": {
          "base_uri": "https://localhost:8080/"
        },
        "outputId": "08ec74be-987b-4e3c-ce31-2902469894f6"
      },
      "execution_count": null,
      "outputs": [
        {
          "output_type": "stream",
          "name": "stdout",
          "text": [
            "ac\n"
          ]
        }
      ]
    },
    {
      "cell_type": "code",
      "source": [
        "print(a[:2])  # Index 0 can be omitted"
      ],
      "metadata": {
        "id": "o1QH0veP1lFQ",
        "colab": {
          "base_uri": "https://localhost:8080/"
        },
        "outputId": "aca8bd9d-5817-47ca-9960-7070c5ce82fd"
      },
      "execution_count": null,
      "outputs": [
        {
          "output_type": "stream",
          "name": "stdout",
          "text": [
            "pe\n"
          ]
        }
      ]
    },
    {
      "cell_type": "code",
      "source": [
        "print(a[-2:])  # The last index can be omitted"
      ],
      "metadata": {
        "id": "-FKLoUwY1xk_",
        "colab": {
          "base_uri": "https://localhost:8080/"
        },
        "outputId": "123f04f7-e933-4b8b-9b06-cb03f11bd263"
      },
      "execution_count": null,
      "outputs": [
        {
          "output_type": "stream",
          "name": "stdout",
          "text": [
            "ch\n"
          ]
        }
      ]
    },
    {
      "cell_type": "markdown",
      "source": [
        "|0|1|2|3|4|\n",
        "|-|-|-|-|-|\n",
        "|1|2|3|4|5|\n",
        "\n",
        "<br>\n",
        "<br>\n",
        "\n",
        "|-5|-4|-3|-2|-1|\n",
        "|-|-|-|-|-|\n",
        "|1|2|3|4|5|"
      ],
      "metadata": {
        "id": "gVxbXbOA2GY9"
      }
    },
    {
      "cell_type": "code",
      "source": [
        "print(b[1:3])"
      ],
      "metadata": {
        "id": "Uva8FC682HMl",
        "colab": {
          "base_uri": "https://localhost:8080/"
        },
        "outputId": "056c6d53-f1fc-43cb-d0de-35348b10ff0b"
      },
      "execution_count": null,
      "outputs": [
        {
          "output_type": "stream",
          "name": "stdout",
          "text": [
            "[2, 3]\n"
          ]
        }
      ]
    },
    {
      "cell_type": "code",
      "source": [
        "print(b[2:])"
      ],
      "metadata": {
        "id": "4nTOUvhg3AYG",
        "colab": {
          "base_uri": "https://localhost:8080/"
        },
        "outputId": "0dad5071-84fb-4cce-a58b-7af3a4697742"
      },
      "execution_count": null,
      "outputs": [
        {
          "output_type": "stream",
          "name": "stdout",
          "text": [
            "[3, 4, 5]\n"
          ]
        }
      ]
    },
    {
      "cell_type": "code",
      "source": [
        "print(b[:-1])"
      ],
      "metadata": {
        "id": "EqZVUPXF3Jk8",
        "colab": {
          "base_uri": "https://localhost:8080/"
        },
        "outputId": "4658958a-4d95-4a5e-a6f5-534331528066"
      },
      "execution_count": null,
      "outputs": [
        {
          "output_type": "stream",
          "name": "stdout",
          "text": [
            "[1, 2, 3, 4]\n"
          ]
        }
      ]
    },
    {
      "cell_type": "markdown",
      "source": [
        "#### Updating Existing Element **(LIST ONLY)**\n",
        "\n",
        "Indexing operator with assignment operator can be used for updating an element."
      ],
      "metadata": {
        "id": "TqAAHC893hbH"
      }
    },
    {
      "cell_type": "code",
      "source": [
        "b[-1] = 4\n",
        "print(b)"
      ],
      "metadata": {
        "id": "RS--VHLd3opP",
        "colab": {
          "base_uri": "https://localhost:8080/"
        },
        "outputId": "d14ba96d-0fb2-4f7f-c050-35ffd0e0ce38"
      },
      "execution_count": null,
      "outputs": [
        {
          "output_type": "stream",
          "name": "stdout",
          "text": [
            "[1, 2, 3, 4, 4]\n"
          ]
        }
      ]
    },
    {
      "cell_type": "code",
      "source": [
        "b[1:3] = [6, 7, 8]\n",
        "print(b)"
      ],
      "metadata": {
        "id": "eywVp8Pj3_mG",
        "colab": {
          "base_uri": "https://localhost:8080/"
        },
        "outputId": "bf7a1052-c5fc-40be-a1e6-a7be1066d759"
      },
      "execution_count": null,
      "outputs": [
        {
          "output_type": "stream",
          "name": "stdout",
          "text": [
            "[1, 6, 7, 8, 4, 4]\n"
          ]
        }
      ]
    },
    {
      "cell_type": "markdown",
      "source": [
        "#### Adding Elements **(LIST ONLY)**\n",
        "\n",
        "List methods can be used for adding elements in a list"
      ],
      "metadata": {
        "id": "POnmdiDkHBuV"
      }
    },
    {
      "cell_type": "markdown",
      "source": [
        "<h5>.append()</h5>\n",
        "\n",
        "- A list method that adds an element to the end of a list"
      ],
      "metadata": {
        "id": "PaO4FoeL6_Kf"
      }
    },
    {
      "cell_type": "code",
      "source": [
        "a = [1, 2, 3, 4]\n",
        "\n",
        "a.append(5)\n",
        "print(a)"
      ],
      "metadata": {
        "id": "WSZ7rvzi7K4Q",
        "colab": {
          "base_uri": "https://localhost:8080/"
        },
        "outputId": "c9b5cc10-2487-44f9-f266-dfafa5bf6370"
      },
      "execution_count": null,
      "outputs": [
        {
          "output_type": "stream",
          "name": "stdout",
          "text": [
            "[1, 2, 3, 4, 5]\n"
          ]
        }
      ]
    },
    {
      "cell_type": "markdown",
      "source": [
        "얘는 a가 진짜 바뀌는 것, replace 와 달리"
      ],
      "metadata": {
        "id": "zOJjQIx_qSIa"
      }
    },
    {
      "cell_type": "markdown",
      "source": [
        "<h5>.extend()</h5>\n",
        "\n",
        "A list method that adds multiple elements to the end of a list"
      ],
      "metadata": {
        "id": "E2X_vsFY7txH"
      }
    },
    {
      "cell_type": "code",
      "source": [
        "a.extend([5, 6])\n",
        "print(a)"
      ],
      "metadata": {
        "id": "d_zmVMfT7_uF",
        "colab": {
          "base_uri": "https://localhost:8080/"
        },
        "outputId": "39b69994-a871-4f1d-bdff-4a71f8a86273"
      },
      "execution_count": null,
      "outputs": [
        {
          "output_type": "stream",
          "name": "stdout",
          "text": [
            "[1, 2, 3, 4, 5, 5, 6]\n"
          ]
        }
      ]
    },
    {
      "cell_type": "markdown",
      "source": [
        "#### Deleting Elements **(LIST ONLY)**\n",
        "\n",
        "List method can be used for deleting elements in a list"
      ],
      "metadata": {
        "id": "_Znsj7QqPb1D"
      }
    },
    {
      "cell_type": "markdown",
      "source": [
        "<h5>.pop()</h5>\n",
        "\n",
        "A list method that deletes and returns the last element from a list"
      ],
      "metadata": {
        "id": "gru9r1LW7Zn1"
      }
    },
    {
      "cell_type": "code",
      "source": [
        "b = a.pop()\n",
        "\n",
        "print(a)\n",
        "print(b)"
      ],
      "metadata": {
        "id": "775xkTj87fe8",
        "colab": {
          "base_uri": "https://localhost:8080/"
        },
        "outputId": "180741b0-24f9-4890-cc46-876d411e3108"
      },
      "execution_count": null,
      "outputs": [
        {
          "output_type": "stream",
          "name": "stdout",
          "text": [
            "[1, 2, 3, 4, 5, 5]\n",
            "6\n"
          ]
        }
      ]
    },
    {
      "cell_type": "markdown",
      "source": [
        "a의 마지막 값을 b로 출력한 것"
      ],
      "metadata": {
        "id": "B6zOEtmrqtMV"
      }
    },
    {
      "cell_type": "markdown",
      "source": [
        "#### Others\n",
        "\n",
        "There are other functions and methods that do some actions on sequences"
      ],
      "metadata": {
        "id": "SvdvhvZ7MttF"
      }
    },
    {
      "cell_type": "markdown",
      "source": [
        "<h5>len()</h5>\n",
        "\n",
        "A function that returns the number of elements"
      ],
      "metadata": {
        "id": "SHsWx_xR40HI"
      }
    },
    {
      "cell_type": "code",
      "source": [
        "a = \"python\"\n",
        "print(len(a))"
      ],
      "metadata": {
        "id": "VufJ-iD_56_H",
        "colab": {
          "base_uri": "https://localhost:8080/"
        },
        "outputId": "820f9d5e-0d29-4cc5-b199-2f214e594de5"
      },
      "execution_count": null,
      "outputs": [
        {
          "output_type": "stream",
          "name": "stdout",
          "text": [
            "6\n"
          ]
        }
      ]
    },
    {
      "cell_type": "code",
      "source": [
        "b = [1, 2, 3, 5, 7, 11, 13, 17]\n",
        "print(len(b))"
      ],
      "metadata": {
        "id": "3tZWn7GP6HQ7",
        "colab": {
          "base_uri": "https://localhost:8080/"
        },
        "outputId": "b14935eb-aa92-42c2-a486-a762a9207bf2"
      },
      "execution_count": null,
      "outputs": [
        {
          "output_type": "stream",
          "name": "stdout",
          "text": [
            "8\n"
          ]
        }
      ]
    },
    {
      "cell_type": "markdown",
      "source": [
        "<h5>.replace() <strong>(STRING ONLY)</strong></h5>\n",
        "\n",
        "A string method that returns a replaced string"
      ],
      "metadata": {
        "id": "ApkQ6FxN6hys"
      }
    },
    {
      "cell_type": "code",
      "source": [
        "a = \"Hello world!\"\n",
        "print(a)\n",
        "\n",
        "a = a.replace(\"world\", \"python\")\n",
        "print(a)"
      ],
      "metadata": {
        "id": "rGhdZdES6tnt",
        "colab": {
          "base_uri": "https://localhost:8080/"
        },
        "outputId": "339ccb65-218a-40f3-ef82-3542aa808c46"
      },
      "execution_count": null,
      "outputs": [
        {
          "output_type": "stream",
          "name": "stdout",
          "text": [
            "Hello world!\n",
            "Hello python!\n"
          ]
        }
      ]
    },
    {
      "cell_type": "markdown",
      "source": [
        "replace 는 a를 직접 바꿔주는 것이 아니라 그냥 서로 다른 string 인 것\n",
        "a를 진짜 바꾸려면 =로 할당해줘야"
      ],
      "metadata": {
        "id": "R_1JiG-Bpq_N"
      }
    },
    {
      "cell_type": "markdown",
      "source": [
        "<h5>.split() <strong>(STRING ONLY)</strong></h5>\n",
        "\n",
        "A string method that splits a string and returns a list of substrings"
      ],
      "metadata": {
        "id": "cehdOiu_TMrO"
      }
    },
    {
      "cell_type": "code",
      "source": [
        "a = \"red green blue\"\n",
        "print(a.split(\" \"))"
      ],
      "metadata": {
        "id": "EAz7MVgM1WN6",
        "colab": {
          "base_uri": "https://localhost:8080/"
        },
        "outputId": "1ced2748-532b-4655-d27c-8e9df79f7011"
      },
      "execution_count": null,
      "outputs": [
        {
          "output_type": "stream",
          "name": "stdout",
          "text": [
            "['red', 'green', 'blue']\n"
          ]
        }
      ]
    },
    {
      "cell_type": "markdown",
      "source": [
        "스페이스를 기준으로 string을 잘라줘\n",
        "데이터를 여러 개 한 번에 들고 있을 수 있는 것은 list이므로 쪼개진 string을 list 로 돌린다"
      ],
      "metadata": {
        "id": "2qPDxs9AS9H5"
      }
    },
    {
      "cell_type": "markdown",
      "source": [
        "#### Sequence: Exercise"
      ],
      "metadata": {
        "id": "RxKHt7LWztdp"
      }
    },
    {
      "cell_type": "markdown",
      "source": [
        "1.\n",
        "\n",
        "Combine these two names to create a fullname.\n",
        "<br>\n",
        "<br>\n",
        "First Name: Alice\n",
        "<br>\n",
        "Last Name: Smith"
      ],
      "metadata": {
        "id": "g53Ve0Kt3dV3"
      }
    },
    {
      "cell_type": "code",
      "source": [],
      "metadata": {
        "id": "zhU6Mlwf2bFE"
      },
      "execution_count": null,
      "outputs": []
    },
    {
      "cell_type": "code",
      "source": [
        "#@title Answer\n",
        "\n",
        "first_name = \"Alice\"\n",
        "last_name = \"Smith\"\n",
        "\n",
        "print(\"fullname:\", first_name + \" \" + last_name)"
      ],
      "metadata": {
        "id": "jJ4fWPKVoLbE",
        "colab": {
          "base_uri": "https://localhost:8080/"
        },
        "outputId": "bed430e8-47fa-467b-e4c1-ed64d1e62fe3"
      },
      "execution_count": 1,
      "outputs": [
        {
          "output_type": "stream",
          "name": "stdout",
          "text": [
            "fullname: Alice Smith\n"
          ]
        }
      ]
    },
    {
      "cell_type": "markdown",
      "source": [
        "2.\n",
        "\n",
        "Prove using \"\" and '' has no difference when creating a string."
      ],
      "metadata": {
        "id": "5BtRt1EAz-zB"
      }
    },
    {
      "cell_type": "code",
      "source": [],
      "metadata": {
        "id": "82mHUIdNqIxn"
      },
      "execution_count": null,
      "outputs": []
    },
    {
      "cell_type": "code",
      "source": [
        "#@title Answer\n",
        "\n",
        "string_1 = \"Hello\"\n",
        "string_2 = 'Hello'\n",
        "\n",
        "print(\"no difference:\", string_1 == string_2)"
      ],
      "metadata": {
        "id": "dGtMtGOK2cGq",
        "colab": {
          "base_uri": "https://localhost:8080/"
        },
        "outputId": "9e56fc56-10c0-4b1a-9ad3-2f3c90bbd472"
      },
      "execution_count": 2,
      "outputs": [
        {
          "output_type": "stream",
          "name": "stdout",
          "text": [
            "no difference: True\n"
          ]
        }
      ]
    },
    {
      "cell_type": "markdown",
      "source": [
        "3.\n",
        "\n",
        "Fix the typo in the following string.\n",
        "<br>\n",
        "<br>\n",
        "\"Ths sentence has a typo.\""
      ],
      "metadata": {
        "id": "a_G6FwiQ0Wdz"
      }
    },
    {
      "cell_type": "code",
      "source": [],
      "metadata": {
        "id": "8Kz38d10qGbM"
      },
      "execution_count": null,
      "outputs": []
    },
    {
      "cell_type": "code",
      "source": [
        "#@title Answer\n",
        "\n",
        "sentence = \"Ths sentence has a typo.\"\n",
        "correct_sentence = sentence.replace(\"Ths\", \"This\")\n",
        "\n",
        "print(correct_sentence)"
      ],
      "metadata": {
        "id": "_nl6bo2S2SCK"
      },
      "execution_count": null,
      "outputs": []
    },
    {
      "cell_type": "markdown",
      "source": [
        "4.\n",
        "\n",
        "You have a phone number as a string and want to display it in a specific format (XXX-XXX-XXXX).\n",
        "<br>\n",
        "Use string slicing and concatenation to format the phone number.\n",
        "<br>\n",
        "<br>\n",
        "Phone Number: 1234567890"
      ],
      "metadata": {
        "id": "5Ixm-wba0VYx"
      }
    },
    {
      "cell_type": "code",
      "source": [],
      "metadata": {
        "id": "_g26K69S2N3a"
      },
      "execution_count": null,
      "outputs": []
    },
    {
      "cell_type": "code",
      "source": [
        "#@title @Answer\n",
        "\n",
        "number = \"1234567890\"\n",
        "number_formatted = number[:3] + \"-\" + number[3:6] + \"-\" + number[6:]\n",
        "\n",
        "print(number_formatted)"
      ],
      "metadata": {
        "id": "lvyBHV2CqEur",
        "colab": {
          "base_uri": "https://localhost:8080/"
        },
        "outputId": "97ba850b-3731-45c3-aad0-0e819f920425"
      },
      "execution_count": 3,
      "outputs": [
        {
          "output_type": "stream",
          "name": "stdout",
          "text": [
            "123-456-7890\n"
          ]
        }
      ]
    },
    {
      "cell_type": "markdown",
      "source": [
        "5.\n",
        "\n",
        "You have two guest lists for a party. Combine them to a single list.\n",
        "<br>\n",
        "<br>\n",
        "Dinner Guests: Chloe, Mark\n",
        "<br>\n",
        "Party Guests: Charlie, Hanna"
      ],
      "metadata": {
        "id": "AwyMhiT657qM"
      }
    },
    {
      "cell_type": "code",
      "source": [],
      "metadata": {
        "id": "abE6C1M32Jm6"
      },
      "execution_count": null,
      "outputs": []
    },
    {
      "cell_type": "code",
      "source": [
        "#@title Answer\n",
        "\n",
        "guests_1 = [\"Chloe\", \"Mark\"]\n",
        "guests_2 = [\"Charlie\", \"Hanna\"]\n",
        "\n",
        "print(\"guests:\", guests_1 + guests_2)"
      ],
      "metadata": {
        "id": "bvcLBp3nrAY9"
      },
      "execution_count": null,
      "outputs": []
    },
    {
      "cell_type": "markdown",
      "source": [
        "list도 sequence, sequence를 합칠 때는 플러스 operator를 사용"
      ],
      "metadata": {
        "id": "j1yg6PMRTvYD"
      }
    },
    {
      "cell_type": "markdown",
      "source": [
        "6.\n",
        "\n",
        "You want to add items to a shopping cart list.\n",
        "<br>\n",
        "Create an empty shopping cart list and then add new item strings (\"Apples\", \"Breads\", \"Milk\")."
      ],
      "metadata": {
        "id": "F84QmlKN5oR0"
      }
    },
    {
      "cell_type": "code",
      "source": [],
      "metadata": {
        "id": "kozJnRmb2FKM"
      },
      "execution_count": null,
      "outputs": []
    },
    {
      "cell_type": "code",
      "source": [
        "#@title Answer\n",
        "\n",
        "cart = []\n",
        "cart.extend([\"Apples\", \"Breads\", \"Milk\"])\n",
        "\n",
        "print(\"cart:\", cart)"
      ],
      "metadata": {
        "id": "jrKmUzSgrllz",
        "colab": {
          "base_uri": "https://localhost:8080/"
        },
        "outputId": "f3c45f1d-62f5-4b93-d159-8e5f80eda6c7"
      },
      "execution_count": 4,
      "outputs": [
        {
          "output_type": "stream",
          "name": "stdout",
          "text": [
            "cart: ['Apples', 'Breads', 'Milk']\n"
          ]
        }
      ]
    },
    {
      "cell_type": "markdown",
      "source": [
        "일단 비어있는 list를 만들어놓고 필요한 아이들을 추가할 수 있음, 여러개를 넣으니까 extend를 활용"
      ],
      "metadata": {
        "id": "dcu-pU8LUZgH"
      }
    },
    {
      "cell_type": "markdown",
      "source": [
        "7.\n",
        "\n",
        "You want to verify if your online store inventory is empty."
      ],
      "metadata": {
        "id": "gPDMchK67KiK"
      }
    },
    {
      "cell_type": "code",
      "source": [
        "online_store_inventory = []  # It is empty!\n",
        "\n",
        "# Start from here!"
      ],
      "metadata": {
        "id": "1uHtc1bg7INM"
      },
      "execution_count": null,
      "outputs": []
    },
    {
      "cell_type": "code",
      "source": [
        "#@title Answer\n",
        "\n",
        "online_store_inventory = []\n",
        "\n",
        "# Answer 1\n",
        "print(\"empty:\", online_store_inventory == [])\n",
        "\n",
        "# Answer 2\n",
        "print(\"empty:\", len(online_store_inventory) == 0)"
      ],
      "metadata": {
        "id": "Q96YzoQ5souP"
      },
      "execution_count": null,
      "outputs": []
    },
    {
      "cell_type": "markdown",
      "source": [
        "8.\n",
        "\n",
        "You want to remove the last played song from your playlist A and move it to another playlist B.\n",
        "<br>\n",
        "<br>\n",
        "playlist A: Song 1, Song 2, Song 3\n",
        "<br>\n",
        "playlist B: Song 4"
      ],
      "metadata": {
        "id": "SfNCcX_u7KYP"
      }
    },
    {
      "cell_type": "code",
      "source": [],
      "metadata": {
        "id": "o1g-o2TK14H5"
      },
      "execution_count": null,
      "outputs": []
    },
    {
      "cell_type": "code",
      "source": [
        "#@title Answer\n",
        "\n",
        "list_a = [\"Song 1\", \"Song 2\", \"Song 3\"]\n",
        "list_b = [\"Song 4\"]\n",
        "\n",
        "song = list_a.pop()\n",
        "list_b.append(song)\n",
        "\n",
        "print(\"playlist A:\", list_a)\n",
        "print(\"playlist B:\", list_b)"
      ],
      "metadata": {
        "id": "kdFy6_ZquCC2"
      },
      "execution_count": null,
      "outputs": []
    },
    {
      "cell_type": "markdown",
      "source": [
        "9.\n",
        "\n",
        "Count the number of words in the following string.\n",
        "<br>\n",
        "<br>\n",
        "\"Today is a beautiful day for a walk!\""
      ],
      "metadata": {
        "id": "-MtVJCtW2l2R"
      }
    },
    {
      "cell_type": "code",
      "source": [],
      "metadata": {
        "id": "mP3nAqZ6LCbh"
      },
      "execution_count": null,
      "outputs": []
    },
    {
      "cell_type": "code",
      "source": [
        "#@title Answer\n",
        "\n",
        "sentence = \"Today is a beautiful day for a walk!\"\n",
        "words = sentence.split(\" \")\n",
        "\n",
        "print(\"number of words:\", len(words))"
      ],
      "metadata": {
        "id": "5LHeWunpu0u0"
      },
      "execution_count": null,
      "outputs": []
    },
    {
      "cell_type": "markdown",
      "source": [
        "10.\n",
        "\n",
        "Extract the month from a date string.\n",
        "<br>\n",
        "<br>\n",
        "\"2024-03-22\""
      ],
      "metadata": {
        "id": "SK7PmawK0Ymx"
      }
    },
    {
      "cell_type": "code",
      "source": [],
      "metadata": {
        "id": "NVwmRb-44cOR"
      },
      "execution_count": null,
      "outputs": []
    },
    {
      "cell_type": "code",
      "source": [
        "#@title Answer\n",
        "\n",
        "date = \"2024-03-22\"\n",
        "split_date = date.split(\"-\")\n",
        "\n",
        "print(\"month:\", split_date[1])"
      ],
      "metadata": {
        "id": "cbXIOi542lIK",
        "colab": {
          "base_uri": "https://localhost:8080/"
        },
        "outputId": "b6eb03c7-1e69-4c89-8fdc-378f12be4d35"
      },
      "execution_count": 5,
      "outputs": [
        {
          "output_type": "stream",
          "name": "stdout",
          "text": [
            "month: 03\n"
          ]
        }
      ]
    },
    {
      "cell_type": "markdown",
      "source": [
        "다른 방법: slice-> print(date[5:7])"
      ],
      "metadata": {
        "id": "DRcLdItFXSM_"
      }
    },
    {
      "cell_type": "markdown",
      "source": [
        "### Mapping: Dictionary\n",
        "\n",
        "- A collection of key-value data pairs\n",
        "- Can access data by keys"
      ],
      "metadata": {
        "id": "_lcMYtSLljaa"
      }
    },
    {
      "cell_type": "code",
      "source": [
        "a = {\"name\": \"Luna\", \"age\": 20}"
      ],
      "metadata": {
        "id": "V7vhjlMZnPsv"
      },
      "execution_count": 6,
      "outputs": []
    },
    {
      "cell_type": "markdown",
      "source": [
        "중괄호, 통상적으로 key 에는 string 을 사용\n",
        "\n",
        "dictionary에는 순서가 없음, 인덱스가 존재하지 않음\n",
        "value에 우리가 필요한 데이터를 저장하고 key에 지칭하는 쉬운 별명을 지어주는 것"
      ],
      "metadata": {
        "id": "UBCu6yKpb_-B"
      }
    },
    {
      "cell_type": "markdown",
      "source": [
        "#### Accessing Value\n",
        "\n",
        "Operator can be used for accessing values with keys"
      ],
      "metadata": {
        "id": "kyGGvMWTJUcb"
      }
    },
    {
      "cell_type": "code",
      "source": [
        "print(a[\"name\"])\n",
        "print(a[\"age\"])"
      ],
      "metadata": {
        "id": "1RTW-Z0D8tz8",
        "colab": {
          "base_uri": "https://localhost:8080/"
        },
        "outputId": "2f07680d-f4b7-4104-d01a-174604d760a6"
      },
      "execution_count": 7,
      "outputs": [
        {
          "output_type": "stream",
          "name": "stdout",
          "text": [
            "Luna\n",
            "20\n"
          ]
        }
      ]
    },
    {
      "cell_type": "markdown",
      "source": [
        "#### Updating existing Value\n",
        "\n",
        "Operators can be used for updating existing values"
      ],
      "metadata": {
        "id": "nIE79ey9Jr89"
      }
    },
    {
      "cell_type": "code",
      "source": [
        "print(a)\n",
        "\n",
        "a[\"name\"] = \"Jay\"\n",
        "print(a)"
      ],
      "metadata": {
        "id": "xmVvkpCc83iw",
        "colab": {
          "base_uri": "https://localhost:8080/"
        },
        "outputId": "8c0cc393-046d-41cc-82df-d444feb22288"
      },
      "execution_count": 8,
      "outputs": [
        {
          "output_type": "stream",
          "name": "stdout",
          "text": [
            "{'name': 'Luna', 'age': 20}\n",
            "{'name': 'Jay', 'age': 20}\n"
          ]
        }
      ]
    },
    {
      "cell_type": "markdown",
      "source": [
        "#### Adding Key & Value\n",
        "\n",
        "Operators can be used for adding new keys and values"
      ],
      "metadata": {
        "id": "d3dmFf3qKFuI"
      }
    },
    {
      "cell_type": "code",
      "source": [
        "# Adding a key-value pair\n",
        "\n",
        "a[\"is_student\"] = True\n",
        "print(a)"
      ],
      "metadata": {
        "id": "9jHjJu3u9VOp",
        "colab": {
          "base_uri": "https://localhost:8080/"
        },
        "outputId": "61b8f7c8-e497-4fae-b60a-8a3005382011"
      },
      "execution_count": 9,
      "outputs": [
        {
          "output_type": "stream",
          "name": "stdout",
          "text": [
            "{'name': 'Jay', 'age': 20, 'is_student': True}\n"
          ]
        }
      ]
    },
    {
      "cell_type": "markdown",
      "source": [
        "#### Others\n",
        "\n",
        "There are other functions and methods that do some actions on dictionaries"
      ],
      "metadata": {
        "id": "rd-6aBI5tBjM"
      }
    },
    {
      "cell_type": "markdown",
      "source": [
        "<h5>.keys()</h5>\n",
        "\n",
        "A dictionary method that returns the keys of a dictionary"
      ],
      "metadata": {
        "id": "4Ta6hMKztD10"
      }
    },
    {
      "cell_type": "code",
      "source": [
        "print(a.keys())"
      ],
      "metadata": {
        "id": "nBy_ybSXtKTY",
        "colab": {
          "base_uri": "https://localhost:8080/"
        },
        "outputId": "5b674393-a079-4425-c707-ca91a20cfeea"
      },
      "execution_count": 10,
      "outputs": [
        {
          "output_type": "stream",
          "name": "stdout",
          "text": [
            "dict_keys(['name', 'age', 'is_student'])\n"
          ]
        }
      ]
    },
    {
      "cell_type": "markdown",
      "source": [
        "<h5>.values()</h5>\n",
        "\n",
        "A dictionary method that returns the values of a dictionary"
      ],
      "metadata": {
        "id": "gzMsTmdbtMtg"
      }
    },
    {
      "cell_type": "code",
      "source": [
        "print(a.values())"
      ],
      "metadata": {
        "id": "MR48aCWHtbVM",
        "colab": {
          "base_uri": "https://localhost:8080/"
        },
        "outputId": "fc27ed06-d679-4d5f-9843-63d7641a85cd"
      },
      "execution_count": 11,
      "outputs": [
        {
          "output_type": "stream",
          "name": "stdout",
          "text": [
            "dict_values(['Jay', 20, True])\n"
          ]
        }
      ]
    },
    {
      "cell_type": "markdown",
      "source": [
        "<h5>.items()</h5>\n",
        "\n",
        "A dictionary method that returns key-value pairs of a dictionary"
      ],
      "metadata": {
        "id": "7K0S7KUWoszl"
      }
    },
    {
      "cell_type": "code",
      "source": [
        "print(a.items())"
      ],
      "metadata": {
        "id": "OEgLoMKKo7s8",
        "colab": {
          "base_uri": "https://localhost:8080/"
        },
        "outputId": "ad4f465c-eae1-4b3a-b3cd-f50ecc8a546e"
      },
      "execution_count": 12,
      "outputs": [
        {
          "output_type": "stream",
          "name": "stdout",
          "text": [
            "dict_items([('name', 'Jay'), ('age', 20), ('is_student', True)])\n"
          ]
        }
      ]
    },
    {
      "cell_type": "markdown",
      "source": [
        "#### Mapping: Exercise"
      ],
      "metadata": {
        "id": "reluXV0m84eH"
      }
    },
    {
      "cell_type": "markdown",
      "source": [
        "1.\n",
        "\n",
        "Create a phonebook as a dictionary and access Emily's phone number.\n",
        "<br>\n",
        "<br>\n",
        "Phonebook:\n",
        "<br>\n",
        "\n",
        "|name|phone number|\n",
        "|-|-|\n",
        "|Emily|123-456-7890|\n",
        "|Bob|987-654-3210|"
      ],
      "metadata": {
        "id": "XfrBme3k86_k"
      }
    },
    {
      "cell_type": "code",
      "source": [],
      "metadata": {
        "id": "RrIKkzDg96q_"
      },
      "execution_count": null,
      "outputs": []
    },
    {
      "cell_type": "code",
      "source": [
        "#@title Answer\n",
        "\n",
        "phonebook = { \"Emily\": \"123-456-7890\", \"Bob\": \"987-654-3210\" }\n",
        "print(phonebook[\"Emily\"])"
      ],
      "metadata": {
        "id": "KI05UVbSvtcb",
        "colab": {
          "base_uri": "https://localhost:8080/"
        },
        "outputId": "f19b9476-cd0f-4908-a624-e3c71437a741"
      },
      "execution_count": 13,
      "outputs": [
        {
          "output_type": "stream",
          "name": "stdout",
          "text": [
            "123-456-7890\n"
          ]
        }
      ]
    },
    {
      "cell_type": "markdown",
      "source": [
        "2.\n",
        "\n",
        "You have 2 apples and 1 banana in your shopping cart (dictionary).\n",
        "<br>\n",
        "You put one more apple to the cart.\n",
        "<br>\n",
        "What would the updated cart look like?"
      ],
      "metadata": {
        "id": "WL1c4f-T96Re"
      }
    },
    {
      "cell_type": "code",
      "source": [],
      "metadata": {
        "id": "l-FGnYDc-Wt9"
      },
      "execution_count": null,
      "outputs": []
    },
    {
      "cell_type": "code",
      "source": [
        "#@title Answer\n",
        "\n",
        "# Answer 1\n",
        "cart_1 = { \"Apple\": 2, \"Banana\": 1 }\n",
        "cart_1[\"Apple\"] = 3\n",
        "\n",
        "print(cart_1)\n",
        "\n",
        "# Answer 2\n",
        "cart_2 = { \"Apple\": 2, \"Banana\": 1 }\n",
        "cart_2[\"Apple\"] += 1\n",
        "\n",
        "print(cart_2)"
      ],
      "metadata": {
        "id": "0ra51sHwwFAh",
        "colab": {
          "base_uri": "https://localhost:8080/"
        },
        "outputId": "a8706e44-793b-48ab-ff44-c3cdc91de110"
      },
      "execution_count": 14,
      "outputs": [
        {
          "output_type": "stream",
          "name": "stdout",
          "text": [
            "{'Apple': 3, 'Banana': 1}\n",
            "{'Apple': 3, 'Banana': 1}\n"
          ]
        }
      ]
    },
    {
      "cell_type": "markdown",
      "source": [
        "3.\n",
        "\n",
        "(Continued from 2.)\n",
        "<br>\n",
        "You add two avocados to the cart.\n",
        "<br>\n",
        "What would the cart look like?"
      ],
      "metadata": {
        "id": "ZtZr2uYpAtgq"
      }
    },
    {
      "cell_type": "code",
      "source": [],
      "metadata": {
        "id": "fFO1xXLiA3-u"
      },
      "execution_count": null,
      "outputs": []
    },
    {
      "cell_type": "code",
      "source": [
        "#@title Answer\n",
        "\n",
        "cart_1[\"Avocado\"] = 2  # Or you can use cart_2 variable from question 2\n",
        "print(cart_1)"
      ],
      "metadata": {
        "id": "l5SoiKzapO4T"
      },
      "execution_count": null,
      "outputs": []
    },
    {
      "cell_type": "markdown",
      "source": [
        "4.\n",
        "\n",
        "You are managing a bookstore's inventory as a dictionary.\n",
        "<br>\n",
        "Each book is represented by a dictionary with the book's title as the key and the quantity available as the value.\n",
        "<br>\n",
        "Get all the book titles from the inventory.\n",
        "<br>\n",
        "<br>\n",
        "\n",
        "|title|quantity|\n",
        "|-|-|\n",
        "|Python Programming|20|\n",
        "|Data Science Handbook|15|\n",
        "|Introduction to Algorithms|10|"
      ],
      "metadata": {
        "id": "MSSYteDP-Zor"
      }
    },
    {
      "cell_type": "code",
      "source": [],
      "metadata": {
        "id": "xacyJVmoBLtx"
      },
      "execution_count": null,
      "outputs": []
    },
    {
      "cell_type": "code",
      "source": [
        "#@title Answer\n",
        "\n",
        "inventory = { \"Python Programming\": 20, \"Data Science Handbook\": 15, \"Introduction to Algorithms\": 10 }\n",
        "print(inventory.keys())"
      ],
      "metadata": {
        "id": "gS4gOKLop3SD"
      },
      "execution_count": null,
      "outputs": []
    },
    {
      "cell_type": "markdown",
      "source": [
        "### Boolean"
      ],
      "metadata": {
        "id": "5Z4Jv2_sNG2q"
      }
    },
    {
      "cell_type": "code",
      "source": [
        "a = True\n",
        "b = False"
      ],
      "metadata": {
        "id": "Blpj2RidNIFz"
      },
      "execution_count": 15,
      "outputs": []
    },
    {
      "cell_type": "markdown",
      "source": [
        "#### Comparison\n",
        "\n",
        "Comparison operators can be used for comparing data"
      ],
      "metadata": {
        "id": "UD3XnQG8EB-1"
      }
    },
    {
      "cell_type": "code",
      "source": [
        "print(a == b)\n",
        "print(a != b)"
      ],
      "metadata": {
        "id": "zV_gZFWlEE4w",
        "colab": {
          "base_uri": "https://localhost:8080/"
        },
        "outputId": "53bdc147-ab69-49bf-c2d7-54353dc84ec8"
      },
      "execution_count": 16,
      "outputs": [
        {
          "output_type": "stream",
          "name": "stdout",
          "text": [
            "False\n",
            "True\n"
          ]
        }
      ]
    },
    {
      "cell_type": "markdown",
      "source": [
        "boolean끼리 비교해도 boolean 데이터 타입으로 나옴"
      ],
      "metadata": {
        "id": "mQzNaVxHjJae"
      }
    },
    {
      "cell_type": "markdown",
      "source": [
        "#### Condition\n",
        "\n",
        "Logical operators can be used for forming conditions"
      ],
      "metadata": {
        "id": "9f9srYUarmHo"
      }
    },
    {
      "cell_type": "markdown",
      "source": [
        "- `and`: returns `True` if two operands are both `True`\n",
        "- `or`: returns `True` if at least one of the operands is `True`\n",
        "- `not`: returns `true` if operand is `false` and vice versa"
      ],
      "metadata": {
        "id": "qCA3FqK3RepO"
      }
    },
    {
      "cell_type": "code",
      "source": [
        "print(a and b)\n",
        "print(a or b)\n",
        "print(not a)\n",
        "print(not b)"
      ],
      "metadata": {
        "id": "uNVVk6zYrjcu",
        "colab": {
          "base_uri": "https://localhost:8080/"
        },
        "outputId": "48d118f7-4d18-4da9-bc94-fbdb26185359"
      },
      "execution_count": 17,
      "outputs": [
        {
          "output_type": "stream",
          "name": "stdout",
          "text": [
            "False\n",
            "True\n",
            "False\n",
            "True\n"
          ]
        }
      ]
    },
    {
      "cell_type": "markdown",
      "source": [
        "1. a도 참이고 b도 참\n",
        "2. a랑 b 둘중에 하나만 참이면 됨\n",
        "3,4. 반대의 값을 출력"
      ],
      "metadata": {
        "id": "iilYFyWpt0TA"
      }
    },
    {
      "cell_type": "markdown",
      "source": [
        "#### Boolean: Exercise"
      ],
      "metadata": {
        "id": "WcMOe02WBuEQ"
      }
    },
    {
      "cell_type": "markdown",
      "source": [
        "1.\n",
        "\n",
        "Chris is going to stay home if it is raining or snowing outside.\n",
        "<br>\n",
        "Check if Chris will stay home today.\n",
        "<br>\n",
        "<br>\n",
        "\n",
        "|weather|status|\n",
        "|-|-|\n",
        "|rain|false|\n",
        "|snow|true|"
      ],
      "metadata": {
        "id": "SWRYZXM0BxI2"
      }
    },
    {
      "cell_type": "code",
      "source": [],
      "metadata": {
        "id": "efiKe6OSqsYQ"
      },
      "execution_count": null,
      "outputs": []
    },
    {
      "cell_type": "code",
      "source": [
        "#@title Answer\n",
        "\n",
        "is_raining = False\n",
        "is_snowing = True\n",
        "\n",
        "stay_home = is_raining or is_snowing\n",
        "print(\"stay home:\", stay_home)"
      ],
      "metadata": {
        "id": "SEOfwqa6GQQN",
        "colab": {
          "base_uri": "https://localhost:8080/"
        },
        "outputId": "2c8767f9-d487-4380-d699-f40136d945c4"
      },
      "execution_count": 18,
      "outputs": [
        {
          "output_type": "stream",
          "name": "stdout",
          "text": [
            "stay home: True\n"
          ]
        }
      ]
    },
    {
      "cell_type": "markdown",
      "source": [
        "2.\n",
        "\n",
        "You can park in a parking lot if you have a small car and are a resident of an apartment.\n",
        "<br>\n",
        "Check if you can park your car there.\n",
        "<br>\n",
        "<br>\n",
        "\n",
        "|condition|status|\n",
        "|-|-|\n",
        "|small car|true|\n",
        "|resident|true|"
      ],
      "metadata": {
        "id": "MTtt1ufpDyvU"
      }
    },
    {
      "cell_type": "code",
      "source": [],
      "metadata": {
        "id": "dHBiCOxyFmiY"
      },
      "execution_count": null,
      "outputs": []
    },
    {
      "cell_type": "code",
      "source": [
        "#@title Answer\n",
        "\n",
        "has_small_car = True\n",
        "is_resident = True\n",
        "\n",
        "can_park = has_small_car and is_resident\n",
        "print(\"can park:\", can_park)"
      ],
      "metadata": {
        "id": "Sx2pYErpquTZ"
      },
      "execution_count": null,
      "outputs": []
    },
    {
      "cell_type": "markdown",
      "source": [
        "3.\n",
        "\n",
        "Check if you have a task to complete using `not` operator.\n",
        "<br>\n",
        "<br>\n",
        "task_completed = False"
      ],
      "metadata": {
        "id": "z16Exb1wER7r"
      }
    },
    {
      "cell_type": "code",
      "source": [],
      "metadata": {
        "id": "7P-BHbwiGN69"
      },
      "execution_count": null,
      "outputs": []
    },
    {
      "cell_type": "code",
      "source": [
        "#@title Answer\n",
        "\n",
        "task_completed = False\n",
        "print(\"have a task:\", not task_completed)"
      ],
      "metadata": {
        "id": "SCAsSgYxq6k0",
        "colab": {
          "base_uri": "https://localhost:8080/"
        },
        "outputId": "b6ef9f69-164b-421d-8020-2b34aa0ea863"
      },
      "execution_count": 19,
      "outputs": [
        {
          "output_type": "stream",
          "name": "stdout",
          "text": [
            "have a task: True\n"
          ]
        }
      ]
    },
    {
      "cell_type": "markdown",
      "source": [
        "4.\n",
        "\n",
        "You need to verify if a customer is over 18 and has a valid ID to purchase a product.\n",
        "<br>\n",
        "<br>\n",
        "Customer\n",
        "- 19 years old\n",
        "- has no ID card"
      ],
      "metadata": {
        "id": "xoDM11kvESEi"
      }
    },
    {
      "cell_type": "code",
      "source": [],
      "metadata": {
        "id": "ePrDeHswEnbx"
      },
      "execution_count": null,
      "outputs": []
    },
    {
      "cell_type": "code",
      "source": [
        "#@title Answer\n",
        "\n",
        "age = 19\n",
        "has_id_card = False\n",
        "\n",
        "can_purchase = age > 18 and has_id_card\n",
        "print(\"can_purchase:\", can_purchase)"
      ],
      "metadata": {
        "id": "CWbecGH_rPKk",
        "colab": {
          "base_uri": "https://localhost:8080/"
        },
        "outputId": "5d926509-2b05-423a-afe8-1944e4f60df3"
      },
      "execution_count": 20,
      "outputs": [
        {
          "output_type": "stream",
          "name": "stdout",
          "text": [
            "can_purchase: False\n"
          ]
        }
      ]
    },
    {
      "cell_type": "markdown",
      "source": [
        "5.\n",
        "\n",
        "Jane is 16 years old and is 153cm tall.\n",
        "<br>\n",
        "Check if Jane can ride a roller coaster.\n",
        "<br>\n",
        "<br>\n",
        "\n",
        "To ride a roller coaster,\n",
        "<br>\n",
        "one should meet all of the following conditions:\n",
        "1. over 150cm\n",
        "2. over 15 years old"
      ],
      "metadata": {
        "id": "p-uopFWTCTzH"
      }
    },
    {
      "cell_type": "code",
      "source": [],
      "metadata": {
        "id": "6egEI-k6CSxP"
      },
      "execution_count": null,
      "outputs": []
    },
    {
      "cell_type": "code",
      "source": [
        "#@title Answer\n",
        "\n",
        "age = 16\n",
        "height = 153\n",
        "\n",
        "can_ride = age > 15 and height > 150\n",
        "print(\"can ride:\", can_ride)"
      ],
      "metadata": {
        "id": "mCXv-X0gsPeN"
      },
      "execution_count": null,
      "outputs": []
    }
  ]
}