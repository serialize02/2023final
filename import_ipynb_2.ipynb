{
  "nbformat": 4,
  "nbformat_minor": 0,
  "metadata": {
    "colab": {
      "provenance": [],
      "include_colab_link": true
    },
    "kernelspec": {
      "name": "python3",
      "display_name": "Python 3"
    },
    "language_info": {
      "name": "python"
    }
  },
  "cells": [
    {
      "cell_type": "markdown",
      "metadata": {
        "id": "view-in-github",
        "colab_type": "text"
      },
      "source": [
        "<a href=\"https://colab.research.google.com/github/serialize02/2023final/blob/main/import_ipynb_2.ipynb\" target=\"_parent\"><img src=\"https://colab.research.google.com/assets/colab-badge.svg\" alt=\"Open In Colab\"/></a>"
      ]
    },
    {
      "cell_type": "markdown",
      "source": [
        "function들을 모아놓은 곳이 라이브러리\n",
        "function들의 집합\n",
        "\n",
        "유명한 라이브러리 1. 팬더스 (엑셀) 데이터 정리 등,\n",
        "2. numpy 수 처리를 하려면 ,, vectorize\n",
        "numerical 파이라고 생각하면 됨.\n",
        "3. matplotlib -> visualize 그래프 그릴 때\n",
        "\n",
        "nlp 자연어처리, 파이터치(연구자용) , 댄서플로우(산업용, 기업용)는 옛날에는 ai관련 대표적인 라이브러리\n",
        "\n",
        "크롤링-웹사이트 가서 관련된 정보를 다 긁는 것"
      ],
      "metadata": {
        "id": "bsor5X6C9ol6"
      }
    },
    {
      "cell_type": "code",
      "metadata": {
        "id": "JXicrkYOzPRo"
      },
      "source": [
        "import numpy as np\n",
        "n = np.random.randn(10000)"
      ],
      "execution_count": 15,
      "outputs": []
    },
    {
      "cell_type": "markdown",
      "source": [
        "numpy 라이브러리를 np라는 별칭으로 가져오는 것\n",
        "numpy의 random모듈에 있는 randn 함수를 호출하여 크기가 100인 난수 배열을 만드는 것 (random number을 generate)\n",
        "이 함수는 평균이 0이고 표준편차가 1인 표준정규분포(normal distribution)\n",
        "\n",
        "randn 함수는 0을 중심으로 100개의 숫자가 만들어지게 해서 이를 리스트 타입으로 (리스트는 아니지만) 만들어냄\n",
        "\n",
        "만약에 100(1차원적 개념)이 아니라 (5,3) 이렇게 적으면 low부터 시작된다고 생각하셈\n",
        "로우=행렬 행이 먼저고 다음이 열, 5행에 3열의 structure을 만든다고 생각.  "
      ],
      "metadata": {
        "id": "DowIl3BgB80M"
      }
    },
    {
      "cell_type": "markdown",
      "source": [
        "import numpy as np\n",
        "\n",
        "n_3d = np.random.randn(3, 4, 5)\n",
        "print(n_3d)\n",
        "\n",
        "[[[ 1.3000779   0.47789404  0.10069537  0.95491864 -1.35370629]\n",
        "  [-1.12451419 -0.20628724 -0.49359245 -0.43481219 -0.39489613]\n",
        "  [ 0.75050324 -1.88764767 -0.30999882  1.03655253 -0.24154757]\n",
        "  [-1.00303122 -0.79941234 -0.60075609  0.77955611  1.60277811]]\n",
        "\n",
        " [[-0.68984911  1.0497083   0.35249157  0.19467303  0.70630398]\n",
        "  [ 1.40740835 -0.20658751 -0.74364076 -0.93382045 -0.17720808]\n",
        "  [ 0.30812951  1.10365436  1.05879178  0.14744043 -1.12134823]\n",
        "  [ 0.23663518 -0.46104266 -1.48563704  1.51287893 -0.36326684]]\n",
        "\n",
        " [[-0.29477329  0.20517829 -0.05145603 -0.17955355 -0.50378488]\n",
        "  [ 0.24195195  0.48385408 -0.11495374  0.02937796 -0.24303536]\n",
        "  [-1.16448211  0.23989148 -0.15657095  0.24663441  0.47934708]\n",
        "  [-0.90720727  0.0560686   1.31679268 -0.00807103 -1.40524412]]]\n",
        "\n",
        "  3개의 면에 4개의 행, 5개의 열\n",
        "\n",
        "  dimension : 1차원인지 2차원인지 3차원인지.."
      ],
      "metadata": {
        "id": "-LsOwLw7Hf7n"
      }
    },
    {
      "cell_type": "code",
      "metadata": {
        "id": "oKT4vn4MwyLA",
        "colab": {
          "base_uri": "https://localhost:8080/",
          "height": 523
        },
        "outputId": "ca2000a5-01de-443c-c4af-63c11a6c2f6d"
      },
      "source": [
        "import matplotlib\n",
        "matplotlib.pyplot.hist(n)"
      ],
      "execution_count": 4,
      "outputs": [
        {
          "output_type": "execute_result",
          "data": {
            "text/plain": [
              "(array([ 4., 11., 11., 14., 20., 22.,  7.,  7.,  2.,  2.]),\n",
              " array([-2.41043621, -1.88738419, -1.36433218, -0.84128016, -0.31822814,\n",
              "         0.20482387,  0.72787589,  1.25092791,  1.77397993,  2.29703194,\n",
              "         2.82008396]),\n",
              " <BarContainer object of 10 artists>)"
            ]
          },
          "metadata": {},
          "execution_count": 4
        },
        {
          "output_type": "display_data",
          "data": {
            "text/plain": [
              "<Figure size 640x480 with 1 Axes>"
            ],
            "image/png": "[encoded data removed]"
          },
          "metadata": {}
        }
      ]
    },
    {
      "cell_type": "markdown",
      "source": [
        "그래프 만들고 visualize 하는 역할\n",
        "\n",
        "hist 히스토그램을 생성하는 함수\n",
        "bin = 쓰레기통 같은거 -> 히스토그램의 막대 개수를 나타냄\n",
        "2.7 처럼 소수이면 정수로 반올림 (이부분 설명 제대로 이해 못함)\n",
        "\n",
        "디폴트 bin 사이즈는 10개,\n",
        "\n"
      ],
      "metadata": {
        "id": "50oONVSIICFC"
      }
    },
    {
      "cell_type": "code",
      "metadata": {
        "colab": {
          "base_uri": "https://localhost:8080/",
          "height": 748
        },
        "id": "zQJ4LnbA-Hvz",
        "outputId": "4bd91584-5f12-47f2-8003-b17efc3dea6e"
      },
      "source": [
        "import matplotlib.pyplot\n",
        "matplotlib.pyplot.hist(n,bins=50)"
      ],
      "execution_count": 16,
      "outputs": [
        {
          "output_type": "execute_result",
          "data": {
            "text/plain": [
              "(array([  2.,   3.,   3.,  10.,  11.,  11.,  24.,  34.,  41.,  58., 100.,\n",
              "        103., 158., 226., 257., 333., 388., 463., 495., 592., 597., 615.,\n",
              "        620., 631., 610., 544., 521., 492., 423., 391., 283., 238., 204.,\n",
              "        138., 100.,  71.,  72.,  38.,  34.,  22.,  21.,   9.,   9.,   2.,\n",
              "          2.,   0.,   0.,   0.,   0.,   1.]),\n",
              " array([-3.59053184, -3.43292636, -3.27532089, -3.11771541, -2.96010993,\n",
              "        -2.80250446, -2.64489898, -2.48729351, -2.32968803, -2.17208255,\n",
              "        -2.01447708, -1.8568716 , -1.69926613, -1.54166065, -1.38405517,\n",
              "        -1.2264497 , -1.06884422, -0.91123874, -0.75363327, -0.59602779,\n",
              "        -0.43842232, -0.28081684, -0.12321136,  0.03439411,  0.19199959,\n",
              "         0.34960506,  0.50721054,  0.66481602,  0.82242149,  0.98002697,\n",
              "         1.13763244,  1.29523792,  1.4528434 ,  1.61044887,  1.76805435,\n",
              "         1.92565982,  2.0832653 ,  2.24087078,  2.39847625,  2.55608173,\n",
              "         2.7136872 ,  2.87129268,  3.02889816,  3.18650363,  3.34410911,\n",
              "         3.50171459,  3.65932006,  3.81692554,  3.97453101,  4.13213649,\n",
              "         4.28974197]),\n",
              " <BarContainer object of 50 artists>)"
            ]
          },
          "metadata": {},
          "execution_count": 16
        },
        {
          "output_type": "display_data",
          "data": {
            "text/plain": [
              "<Figure size 640x480 with 1 Axes>"
            ],
            "image/png": "[encoded data removed]"
          },
          "metadata": {}
        }
      ]
    },
    {
      "cell_type": "markdown",
      "source": [
        "bin을 크게 하면 당연히 하나의 length는 짧아지겠지\n",
        "\n",
        "정규분포를 띤다: 종모양, 평균을 기준으로 대칭을 가진다,\n",
        "standard deviation (표준편차)\n",
        "표준편차가 1이면 대체로 중간에 값들이 모여 있어 뾰족함을 띤\n",
        "값이 일정한 범위에 몰려 있어 안정적\n",
        "\n",
        "-1, 0, 1 양쪽으로 표준편차 1만큼 떨어져 있는 상황을 끊어봤을 때, 표준편차가 67%임\n",
        "정규분포에서 2표준편차의 범위: 97%의 데이터 포함\n",
        "정규분포에서 3표준편차의 범위: 99.7% 데이터 포함\n",
        "\n",
        "수학점수 87점 예시 이해 못함"
      ],
      "metadata": {
        "id": "HjRHpxyBsSqj"
      }
    },
    {
      "cell_type": "code",
      "metadata": {
        "id": "AWU6awi53c07",
        "outputId": "5db1a03e-7f49-43ea-a153-1c3f211cd69d",
        "colab": {
          "base_uri": "https://localhost:8080/",
          "height": 523
        }
      },
      "source": [
        "import matplotlib.pyplot as plt\n",
        "plt.hist(n)"
      ],
      "execution_count": 6,
      "outputs": [
        {
          "output_type": "execute_result",
          "data": {
            "text/plain": [
              "(array([ 4., 11., 11., 14., 20., 22.,  7.,  7.,  2.,  2.]),\n",
              " array([-2.41043621, -1.88738419, -1.36433218, -0.84128016, -0.31822814,\n",
              "         0.20482387,  0.72787589,  1.25092791,  1.77397993,  2.29703194,\n",
              "         2.82008396]),\n",
              " <BarContainer object of 10 artists>)"
            ]
          },
          "metadata": {},
          "execution_count": 6
        },
        {
          "output_type": "display_data",
          "data": {
            "text/plain": [
              "<Figure size 640x480 with 1 Axes>"
            ],
            "image/png": "[encoded data removed]"
          },
          "metadata": {}
        }
      ]
    },
    {
      "cell_type": "markdown",
      "source": [
        "## from import를 쓰면 import as처럼 축약해서 부를 수 있는 효과"
      ],
      "metadata": {
        "id": "v1zA2xRWzpdu"
      }
    },
    {
      "cell_type": "code",
      "metadata": {
        "colab": {
          "base_uri": "https://localhost:8080/",
          "height": 542
        },
        "id": "moIjn3Kv-Hqy",
        "outputId": "dee98b92-ce09-4513-e402-b2b165f77403"
      },
      "source": [
        "from matplotlib import pyplot\n",
        "pyplot.hist(n)"
      ],
      "execution_count": 17,
      "outputs": [
        {
          "output_type": "execute_result",
          "data": {
            "text/plain": [
              "(array([2.900e+01, 1.680e+02, 8.440e+02, 2.271e+03, 3.073e+03, 2.371e+03,\n",
              "        9.630e+02, 2.370e+02, 4.300e+01, 1.000e+00]),\n",
              " array([-3.59053184, -2.80250446, -2.01447708, -1.2264497 , -0.43842232,\n",
              "         0.34960506,  1.13763244,  1.92565982,  2.7136872 ,  3.50171459,\n",
              "         4.28974197]),\n",
              " <BarContainer object of 10 artists>)"
            ]
          },
          "metadata": {},
          "execution_count": 17
        },
        {
          "output_type": "display_data",
          "data": {
            "text/plain": [
              "<Figure size 640x480 with 1 Axes>"
            ],
            "image/png": "[encoded data removed]"
          },
          "metadata": {}
        }
      ]
    },
    {
      "cell_type": "code",
      "metadata": {
        "colab": {
          "base_uri": "https://localhost:8080/",
          "height": 523
        },
        "id": "ORo259i7_Uqi",
        "outputId": "5ed1bc15-50b3-4662-84d7-0f8485b2fec0"
      },
      "source": [
        "from matplotlib.pyplot import hist\n",
        "hist(n)"
      ],
      "execution_count": 8,
      "outputs": [
        {
          "output_type": "execute_result",
          "data": {
            "text/plain": [
              "(array([ 4., 11., 11., 14., 20., 22.,  7.,  7.,  2.,  2.]),\n",
              " array([-2.41043621, -1.88738419, -1.36433218, -0.84128016, -0.31822814,\n",
              "         0.20482387,  0.72787589,  1.25092791,  1.77397993,  2.29703194,\n",
              "         2.82008396]),\n",
              " <BarContainer object of 10 artists>)"
            ]
          },
          "metadata": {},
          "execution_count": 8
        },
        {
          "output_type": "display_data",
          "data": {
            "text/plain": [
              "<Figure size 640x480 with 1 Axes>"
            ],
            "image/png": "[encoded data removed]"
          },
          "metadata": {}
        }
      ]
    }
  ]
}